{
 "cells": [
  {
   "cell_type": "markdown",
   "id": "892f62ce",
   "metadata": {
    "slideshow": {
     "slide_type": "slide"
    }
   },
   "source": [
    "# DL2DWH Lab\n",
    "\n",
    "In this lab you are asked to cover the following points:\n",
    "1. Data ingestion\n",
    "2. Data understanding\n",
    "3. Design and build a relational DWH\n",
    "4. Query the DWH with Tableau (Desktop)\n",
    "5. (Bonus) Plot the provenance graph"
   ]
  },
  {
   "cell_type": "code",
   "execution_count": null,
   "id": "c62c8a60",
   "metadata": {
    "slideshow": {
     "slide_type": "skip"
    }
   },
   "outputs": [
    {
     "name": "stdout",
     "output_type": "stream",
     "text": [
      "Looking in indexes: https://pypi.org/simple, https://pip.repos.neuron.amazonaws.com\n",
      "Requirement already satisfied: awswrangler in /home/ec2-user/anaconda3/envs/python3/lib/python3.8/site-packages (2.17.0)\n",
      "Requirement already satisfied: numpy<2.0.0,>=1.21.0 in /home/ec2-user/anaconda3/envs/python3/lib/python3.8/site-packages (from awswrangler) (1.23.5)\n",
      "Requirement already satisfied: jsonpath-ng<2.0.0,>=1.5.3 in /home/ec2-user/anaconda3/envs/python3/lib/python3.8/site-packages (from awswrangler) (1.5.3)\n",
      "Requirement already satisfied: opensearch-py<3,>=1 in /home/ec2-user/anaconda3/envs/python3/lib/python3.8/site-packages (from awswrangler) (2.0.0)\n",
      "Requirement already satisfied: botocore<2.0.0,>=1.27.11 in /home/ec2-user/anaconda3/envs/python3/lib/python3.8/site-packages (from awswrangler) (1.29.14)\n",
      "Requirement already satisfied: pandas<2.0.0,>=1.2.0 in /home/ec2-user/anaconda3/envs/python3/lib/python3.8/site-packages (from awswrangler) (1.3.4)\n",
      "Requirement already satisfied: redshift-connector<2.1.0,>=2.0.889 in /home/ec2-user/anaconda3/envs/python3/lib/python3.8/site-packages (from awswrangler) (2.0.909)\n",
      "Requirement already satisfied: pg8000<2.0.0,>=1.20.0 in /home/ec2-user/anaconda3/envs/python3/lib/python3.8/site-packages (from awswrangler) (1.29.3)\n",
      "Requirement already satisfied: progressbar2<5.0.0,>=4.0.0 in /home/ec2-user/anaconda3/envs/python3/lib/python3.8/site-packages (from awswrangler) (4.2.0)\n",
      "Requirement already satisfied: requests-aws4auth<2.0.0,>=1.1.1 in /home/ec2-user/anaconda3/envs/python3/lib/python3.8/site-packages (from awswrangler) (1.1.2)\n",
      "Requirement already satisfied: backoff<3.0.0,>=1.11.1 in /home/ec2-user/anaconda3/envs/python3/lib/python3.8/site-packages (from awswrangler) (2.2.1)\n",
      "Requirement already satisfied: gremlinpython<4.0.0,>=3.5.2 in /home/ec2-user/anaconda3/envs/python3/lib/python3.8/site-packages (from awswrangler) (3.6.1)\n",
      "Requirement already satisfied: pyarrow<8.1.0,>=2.0.0 in /home/ec2-user/anaconda3/envs/python3/lib/python3.8/site-packages (from awswrangler) (7.0.0)\n",
      "Requirement already satisfied: openpyxl<3.1.0,>=3.0.0 in /home/ec2-user/anaconda3/envs/python3/lib/python3.8/site-packages (from awswrangler) (3.0.9)\n",
      "Requirement already satisfied: boto3<2.0.0,>=1.24.11 in /home/ec2-user/anaconda3/envs/python3/lib/python3.8/site-packages (from awswrangler) (1.26.13)\n",
      "Requirement already satisfied: pymysql<2.0.0,>=1.0.0 in /home/ec2-user/anaconda3/envs/python3/lib/python3.8/site-packages (from awswrangler) (1.0.2)\n",
      "Requirement already satisfied: s3transfer<0.7.0,>=0.6.0 in /home/ec2-user/anaconda3/envs/python3/lib/python3.8/site-packages (from boto3<2.0.0,>=1.24.11->awswrangler) (0.6.0)\n",
      "Requirement already satisfied: jmespath<2.0.0,>=0.7.1 in /home/ec2-user/anaconda3/envs/python3/lib/python3.8/site-packages (from boto3<2.0.0,>=1.24.11->awswrangler) (0.10.0)\n",
      "Requirement already satisfied: urllib3<1.27,>=1.25.4 in /home/ec2-user/anaconda3/envs/python3/lib/python3.8/site-packages (from botocore<2.0.0,>=1.27.11->awswrangler) (1.26.8)\n",
      "Requirement already satisfied: python-dateutil<3.0.0,>=2.1 in /home/ec2-user/anaconda3/envs/python3/lib/python3.8/site-packages (from botocore<2.0.0,>=1.27.11->awswrangler) (2.8.2)\n",
      "Requirement already satisfied: nest-asyncio in /home/ec2-user/anaconda3/envs/python3/lib/python3.8/site-packages (from gremlinpython<4.0.0,>=3.5.2->awswrangler) (1.5.1)\n",
      "Requirement already satisfied: isodate<1.0.0,>=0.6.0 in /home/ec2-user/anaconda3/envs/python3/lib/python3.8/site-packages (from gremlinpython<4.0.0,>=3.5.2->awswrangler) (0.6.1)\n",
      "Requirement already satisfied: aenum<4.0.0,>=1.4.5 in /home/ec2-user/anaconda3/envs/python3/lib/python3.8/site-packages (from gremlinpython<4.0.0,>=3.5.2->awswrangler) (3.1.11)\n",
      "Requirement already satisfied: aiohttp<=3.8.1,>=3.8.0 in /home/ec2-user/anaconda3/envs/python3/lib/python3.8/site-packages (from gremlinpython<4.0.0,>=3.5.2->awswrangler) (3.8.1)\n",
      "Requirement already satisfied: ply in /home/ec2-user/anaconda3/envs/python3/lib/python3.8/site-packages (from jsonpath-ng<2.0.0,>=1.5.3->awswrangler) (3.11)\n",
      "Requirement already satisfied: six in /home/ec2-user/anaconda3/envs/python3/lib/python3.8/site-packages (from jsonpath-ng<2.0.0,>=1.5.3->awswrangler) (1.16.0)\n",
      "Requirement already satisfied: decorator in /home/ec2-user/anaconda3/envs/python3/lib/python3.8/site-packages (from jsonpath-ng<2.0.0,>=1.5.3->awswrangler) (5.1.0)\n",
      "Requirement already satisfied: et-xmlfile in /home/ec2-user/anaconda3/envs/python3/lib/python3.8/site-packages (from openpyxl<3.1.0,>=3.0.0->awswrangler) (1.0.1)\n",
      "Requirement already satisfied: certifi in /home/ec2-user/anaconda3/envs/python3/lib/python3.8/site-packages (from opensearch-py<3,>=1->awswrangler) (2021.10.8)\n",
      "Requirement already satisfied: requests<3.0.0,>=2.4.0 in /home/ec2-user/anaconda3/envs/python3/lib/python3.8/site-packages (from opensearch-py<3,>=1->awswrangler) (2.26.0)\n",
      "Requirement already satisfied: pytz>=2017.3 in /home/ec2-user/anaconda3/envs/python3/lib/python3.8/site-packages (from pandas<2.0.0,>=1.2.0->awswrangler) (2021.3)\n",
      "Requirement already satisfied: scramp>=1.4.3 in /home/ec2-user/anaconda3/envs/python3/lib/python3.8/site-packages (from pg8000<2.0.0,>=1.20.0->awswrangler) (1.4.4)\n",
      "Requirement already satisfied: python-utils>=3.0.0 in /home/ec2-user/anaconda3/envs/python3/lib/python3.8/site-packages (from progressbar2<5.0.0,>=4.0.0->awswrangler) (3.4.5)\n",
      "Requirement already satisfied: lxml>=4.6.5 in /home/ec2-user/anaconda3/envs/python3/lib/python3.8/site-packages (from redshift-connector<2.1.0,>=2.0.889->awswrangler) (4.8.0)\n",
      "Requirement already satisfied: beautifulsoup4<5.0.0,>=4.7.0 in /home/ec2-user/anaconda3/envs/python3/lib/python3.8/site-packages (from redshift-connector<2.1.0,>=2.0.889->awswrangler) (4.10.0)\n",
      "Requirement already satisfied: setuptools in /home/ec2-user/anaconda3/envs/python3/lib/python3.8/site-packages (from redshift-connector<2.1.0,>=2.0.889->awswrangler) (59.4.0)\n",
      "Requirement already satisfied: packaging in /home/ec2-user/anaconda3/envs/python3/lib/python3.8/site-packages (from redshift-connector<2.1.0,>=2.0.889->awswrangler) (21.3)\n",
      "Requirement already satisfied: yarl<2.0,>=1.0 in /home/ec2-user/anaconda3/envs/python3/lib/python3.8/site-packages (from aiohttp<=3.8.1,>=3.8.0->gremlinpython<4.0.0,>=3.5.2->awswrangler) (1.7.2)\n",
      "Requirement already satisfied: frozenlist>=1.1.1 in /home/ec2-user/anaconda3/envs/python3/lib/python3.8/site-packages (from aiohttp<=3.8.1,>=3.8.0->gremlinpython<4.0.0,>=3.5.2->awswrangler) (1.2.0)\n",
      "Requirement already satisfied: multidict<7.0,>=4.5 in /home/ec2-user/anaconda3/envs/python3/lib/python3.8/site-packages (from aiohttp<=3.8.1,>=3.8.0->gremlinpython<4.0.0,>=3.5.2->awswrangler) (5.2.0)\n",
      "Requirement already satisfied: attrs>=17.3.0 in /home/ec2-user/anaconda3/envs/python3/lib/python3.8/site-packages (from aiohttp<=3.8.1,>=3.8.0->gremlinpython<4.0.0,>=3.5.2->awswrangler) (21.2.0)\n",
      "Requirement already satisfied: async-timeout<5.0,>=4.0.0a3 in /home/ec2-user/anaconda3/envs/python3/lib/python3.8/site-packages (from aiohttp<=3.8.1,>=3.8.0->gremlinpython<4.0.0,>=3.5.2->awswrangler) (4.0.1)\n",
      "Requirement already satisfied: charset-normalizer<3.0,>=2.0 in /home/ec2-user/anaconda3/envs/python3/lib/python3.8/site-packages (from aiohttp<=3.8.1,>=3.8.0->gremlinpython<4.0.0,>=3.5.2->awswrangler) (2.0.8)\n",
      "Requirement already satisfied: aiosignal>=1.1.2 in /home/ec2-user/anaconda3/envs/python3/lib/python3.8/site-packages (from aiohttp<=3.8.1,>=3.8.0->gremlinpython<4.0.0,>=3.5.2->awswrangler) (1.2.0)\n",
      "Requirement already satisfied: soupsieve>1.2 in /home/ec2-user/anaconda3/envs/python3/lib/python3.8/site-packages (from beautifulsoup4<5.0.0,>=4.7.0->redshift-connector<2.1.0,>=2.0.889->awswrangler) (2.3)\n",
      "Requirement already satisfied: idna<4,>=2.5 in /home/ec2-user/anaconda3/envs/python3/lib/python3.8/site-packages (from requests<3.0.0,>=2.4.0->opensearch-py<3,>=1->awswrangler) (3.1)\n",
      "Requirement already satisfied: asn1crypto>=1.5.1 in /home/ec2-user/anaconda3/envs/python3/lib/python3.8/site-packages (from scramp>=1.4.3->pg8000<2.0.0,>=1.20.0->awswrangler) (1.5.1)\n",
      "Requirement already satisfied: pyparsing!=3.0.5,>=2.0.2 in /home/ec2-user/anaconda3/envs/python3/lib/python3.8/site-packages (from packaging->redshift-connector<2.1.0,>=2.0.889->awswrangler) (3.0.6)\n",
      "Requirement already satisfied: typing-extensions>=3.6.5 in /home/ec2-user/anaconda3/envs/python3/lib/python3.8/site-packages (from async-timeout<5.0,>=4.0.0a3->aiohttp<=3.8.1,>=3.8.0->gremlinpython<4.0.0,>=3.5.2->awswrangler) (4.0.0)\n",
      "\u001b[33mWARNING: You are using pip version 22.0.4; however, version 22.3.1 is available.\n",
      "You should consider upgrading via the '/home/ec2-user/anaconda3/envs/python3/bin/python -m pip install --upgrade pip' command.\u001b[0m\u001b[33m\n",
      "\u001b[0mLooking in indexes: https://pypi.org/simple, https://pip.repos.neuron.amazonaws.com\n",
      "Requirement already satisfied: pandas in /home/ec2-user/anaconda3/envs/python3/lib/python3.8/site-packages (1.3.4)\n",
      "Requirement already satisfied: python-dateutil>=2.7.3 in /home/ec2-user/anaconda3/envs/python3/lib/python3.8/site-packages (from pandas) (2.8.2)\n",
      "Requirement already satisfied: pytz>=2017.3 in /home/ec2-user/anaconda3/envs/python3/lib/python3.8/site-packages (from pandas) (2021.3)\n",
      "Requirement already satisfied: numpy>=1.17.3 in /home/ec2-user/anaconda3/envs/python3/lib/python3.8/site-packages (from pandas) (1.23.5)\n",
      "Requirement already satisfied: six>=1.5 in /home/ec2-user/anaconda3/envs/python3/lib/python3.8/site-packages (from python-dateutil>=2.7.3->pandas) (1.16.0)\n"
     ]
    }
   ],
   "source": [
    "!pip install awswrangler\n",
    "!pip install pandas\n",
    "!pip install sklearn\n",
    "!pip install prov\n",
    "!pip install seaborn\n",
    "!pip install pydot\n",
    "!pip install graphviz\n",
    "import warnings\n",
    "warnings.filterwarnings('ignore')"
   ]
  },
  {
   "cell_type": "code",
   "execution_count": null,
   "id": "0927b305",
   "metadata": {
    "slideshow": {
     "slide_type": "slide"
    }
   },
   "outputs": [],
   "source": [
    "import pandas as pd\n",
    "import awswrangler as wr\n",
    "import seaborn as sns\n",
    "import prov"
   ]
  },
  {
   "cell_type": "markdown",
   "id": "419f2433",
   "metadata": {
    "slideshow": {
     "slide_type": "slide"
    }
   },
   "source": [
    "## Data preparation"
   ]
  },
  {
   "cell_type": "code",
   "execution_count": null,
   "id": "9ff64bba",
   "metadata": {
    "slideshow": {
     "slide_type": "subslide"
    }
   },
   "outputs": [],
   "source": [
    "# get the raw data\n",
    "df = pd.read_csv('http://big.csr.unibo.it/projects/nosql-datasets/sales_fact_1997.orig.csv')\n",
    "df"
   ]
  },
  {
   "cell_type": "code",
   "execution_count": null,
   "id": "575f29b7",
   "metadata": {
    "slideshow": {
     "slide_type": "subslide"
    }
   },
   "outputs": [],
   "source": [
    "# take a look at the columns\n",
    "df.info()"
   ]
  },
  {
   "cell_type": "code",
   "execution_count": null,
   "id": "b813dadb",
   "metadata": {
    "slideshow": {
     "slide_type": "subslide"
    }
   },
   "outputs": [],
   "source": [
    "# select a subset of columns\n",
    "columns = [\n",
    "    \"C. City\", \"C. Country\", \"C. State\", \"Customer (Location)\", \"Yearly Income\",\n",
    "    \"Category\", \"Subcategory\", \"Family\", \"Product (Category)\",\n",
    "    \"S. City\", \"S. Country\", \"S. State\", \"Store\", \"Type\",\n",
    "    \"Sales Date\"\n",
    "]\n",
    "df = df[columns + [\"Store Cost\", \"Store Sales\", \"Unit Sales\"]].groupby(columns).first().reset_index()"
   ]
  },
  {
   "cell_type": "code",
   "execution_count": null,
   "id": "1f614399",
   "metadata": {
    "slideshow": {
     "slide_type": "subslide"
    }
   },
   "outputs": [],
   "source": [
    "# rename some columns\n",
    "if \"Customer (Location)\" in df.columns:\n",
    "    df = df.rename(columns={\n",
    "        'Customer (Location)': 'Customer',\n",
    "        'Product (Category)': 'Product'\n",
    "    })\n",
    "df"
   ]
  },
  {
   "cell_type": "code",
   "execution_count": null,
   "id": "be4bdcda",
   "metadata": {
    "slideshow": {
     "slide_type": "skip"
    }
   },
   "outputs": [],
   "source": [
    "def csv_download_link(df, csv_file_name, delete_prompt=True):\n",
    "    \"\"\"Display a download link to load a data frame as csv from within a Jupyter notebook\"\"\"\n",
    "    df.to_csv(csv_file_name, index=False)\n",
    "    from IPython.display import FileLink\n",
    "    display(FileLink(csv_file_name))\n",
    "    if delete_prompt:\n",
    "        a = input('Press enter to delete the file after you have downloaded it.')\n",
    "        import os\n",
    "        os.remove(csv_file_name)\n",
    "\n",
    "def download_slice(fr, to, bins):\n",
    "    l = int(df.shape[0] / bins)\n",
    "    csv_download_link(df[fr * l: to * l], 'slice-{}-{}.csv'.format(fr, to), delete_prompt=False)\n",
    "\n",
    "bins = 3\n",
    "for i in range(1, bins + 1):\n",
    "    download_slice(i - 1, i, bins)\n",
    "    "
   ]
  },
  {
   "cell_type": "markdown",
   "id": "b96457b2",
   "metadata": {
    "slideshow": {
     "slide_type": "slide"
    }
   },
   "source": [
    "## Data ingestion\n",
    "\n",
    "- Upload the following files in S3 (remember the naming conventions of the data lake areas!)\n",
    "    - [http://big.csr.unibo.it/projects/nosql-datasets/sales_fact_1997.slice-0-1.v0.0.1.csv](http://big.csr.unibo.it/projects/nosql-datasets/sales_fact_1997.slice-0-1.v0.0.1.csv)\n",
    "    - [http://big.csr.unibo.it/projects/nosql-datasets/sales_fact_1997.slice-1-2.v0.0.1.csv](http://big.csr.unibo.it/projects/nosql-datasets/sales_fact_1997.slice-1-2.v0.0.1.csv)\n",
    "    - [http://big.csr.unibo.it/projects/nosql-datasets/sales_fact_1997.slice-2-3.v0.0.1.csv](http://big.csr.unibo.it/projects/nosql-datasets/sales_fact_1997.slice-2-3.v0.0.1.csv)\n",
    "- Merge/Append them into a single Pandas DataFrame\n",
    "    - Which is the underlying assumption so that `append` works?\n",
    "    - See [https://pandas.pydata.org/docs/reference/api/pandas.DataFrame.append.html](https://pandas.pydata.org/docs/reference/api/pandas.DataFrame.append.html)\n",
    "- Save the processed dataset into S3"
   ]
  },
  {
   "cell_type": "code",
   "execution_count": null,
   "id": "5e84224b",
   "metadata": {
    "slideshow": {
     "slide_type": "subslide"
    }
   },
   "outputs": [],
   "source": [
    "landing_bucket = \"s3://landing-raw-sales-123/\"\n",
    "staging_bucket = \"s3://staging-clean-sales-123/\"\n",
    "\n",
    "file_names = [\"sales_fact_1997.slice-0-1.v0.0.1.csv\", \"sales_fact_1997.slice-1-2.v0.0.1.csv\", \"sales_fact_1997.slice-2-3.v0.0.1.csv\",]"
   ]
  },
  {
   "cell_type": "code",
   "execution_count": null,
   "id": "3cd74c82",
   "metadata": {
    "slideshow": {
     "slide_type": "subslide"
    }
   },
   "outputs": [],
   "source": [
    "# import from S3\n",
    "df = wr.s3.read_csv(landing_bucket + file_names[0])\n",
    "for file_name in file_names[1:]:\n",
    "    df = df.append(wr.s3.read_csv(landing_bucket + file_name), ignore_index=True)\n",
    "df"
   ]
  },
  {
   "cell_type": "code",
   "execution_count": null,
   "id": "15ae01ef",
   "metadata": {
    "slideshow": {
     "slide_type": "subslide"
    }
   },
   "outputs": [],
   "source": [
    "# import directly from the sources\n",
    "url = \"http://big.csr.unibo.it/projects/nosql-datasets/\"\n",
    "df = pd.read_csv(url + file_names[0])\n",
    "for file_name in file_names[1:]:\n",
    "    df = df.append(pd.read_csv(url + file_name), ignore_index=True)\n",
    "df"
   ]
  },
  {
   "cell_type": "markdown",
   "id": "7632be91",
   "metadata": {
    "slideshow": {
     "slide_type": "subslide"
    }
   },
   "source": [
    "Save the processed dataset into S3"
   ]
  },
  {
   "cell_type": "code",
   "execution_count": null,
   "id": "a2bbc327",
   "metadata": {},
   "outputs": [],
   "source": [
    "wr.s3.to_csv(df, path=staging_bucket + \"sales_fact_1997.v0.0.1.csv\")"
   ]
  },
  {
   "cell_type": "markdown",
   "id": "410dad85",
   "metadata": {
    "slideshow": {
     "slide_type": "slide"
    }
   },
   "source": [
    "## Data understanding\n",
    "\n",
    "- What is the dataset about?\n",
    "- Which are candidate levels/measures?\n",
    "- Check and fix the missing values (if any)\n",
    "- How many products have been sold?\n",
    "    - See [https://pandas.pydata.org/docs/reference/api/pandas.Series.value_counts.html](https://pandas.pydata.org/docs/reference/api/pandas.Series.value_counts.html)\n",
    "- Which functional dependencies hold among the levels?\n",
    "    - Given a relation R, a set of attributes X in R is said to functionally determine another set of attributes Y, also in R, (written X → Y) if, and only if, each X value is associated with precisely one Y value; R is then said to satisfy the functional dependency X → Y.\n",
    "    - See [https://pandas.pydata.org/docs/reference/api/pandas.DataFrame.nunique.html](https://pandas.pydata.org/docs/reference/api/pandas.DataFrame.nunique.html)\n",
    "    - Hint: `df.groupby([...])` + `nunique()`\n",
    "- Are there relationships between measures?\n",
    "    - See [https://seaborn.pydata.org/generated/seaborn.pairplot.html](https://seaborn.pydata.org/generated/seaborn.pairplot.html)\n",
    "    - See [https://pandas.pydata.org/pandas-docs/stable/reference/api/pandas.DataFrame.corr.html](https://pandas.pydata.org/pandas-docs/stable/reference/api/pandas.DataFrame.corr.html)"
   ]
  },
  {
   "cell_type": "markdown",
   "id": "fb20b03b",
   "metadata": {
    "slideshow": {
     "slide_type": "subslide"
    }
   },
   "source": [
    "- What is the dataset about?\n",
    "- Which are candidate levels/measures?\n",
    "   - `Store Cost`, `Store Sales`, `Unit Sales` are candidate measures, the others are candidate levels"
   ]
  },
  {
   "cell_type": "code",
   "execution_count": null,
   "id": "1420f887",
   "metadata": {},
   "outputs": [],
   "source": [
    "df.info()"
   ]
  },
  {
   "cell_type": "markdown",
   "id": "adaa804c",
   "metadata": {
    "slideshow": {
     "slide_type": "subslide"
    }
   },
   "source": [
    "How many products have been sold?"
   ]
  },
  {
   "cell_type": "code",
   "execution_count": null,
   "id": "f4286a11",
   "metadata": {},
   "outputs": [],
   "source": [
    "df[[\"Product\"]].value_counts()"
   ]
  },
  {
   "cell_type": "markdown",
   "id": "f26a71d0",
   "metadata": {
    "slideshow": {
     "slide_type": "subslide"
    }
   },
   "source": [
    "Which functional dependencies hold among the levels?\n",
    "    \n",
    "- Given a relation R, a set of attributes X in R is said to functionally determine another set of attributes Y, also in R, (written X → Y) if, and only if, each X value is associated with precisely one Y value; R is then said to satisfy the functional dependency X → Y."
   ]
  },
  {
   "cell_type": "markdown",
   "id": "0b2e04a3",
   "metadata": {},
   "source": [
    "What about `Family`?"
   ]
  },
  {
   "cell_type": "code",
   "execution_count": null,
   "id": "b9df0a34",
   "metadata": {
    "slideshow": {
     "slide_type": "subslide"
    }
   },
   "outputs": [],
   "source": [
    "df.groupby([\"Product\"])[\"Subcategory\", \"Category\", \"Family\"].nunique()"
   ]
  },
  {
   "cell_type": "code",
   "execution_count": null,
   "id": "82e2cb9e",
   "metadata": {
    "slideshow": {
     "slide_type": "subslide"
    }
   },
   "outputs": [],
   "source": [
    "df.groupby([\"Subcategory\"])[\"Category\", \"Family\"].nunique()"
   ]
  },
  {
   "cell_type": "code",
   "execution_count": null,
   "id": "8343c03e",
   "metadata": {
    "slideshow": {
     "slide_type": "subslide"
    }
   },
   "outputs": [],
   "source": [
    "df.groupby([\"Category\"])[\"Family\"].nunique()"
   ]
  },
  {
   "cell_type": "code",
   "execution_count": null,
   "id": "6727cc14",
   "metadata": {
    "slideshow": {
     "slide_type": "subslide"
    }
   },
   "outputs": [],
   "source": [
    "df.groupby([\"Family\"])[\"Category\"].nunique()"
   ]
  },
  {
   "cell_type": "markdown",
   "id": "5552e342",
   "metadata": {
    "slideshow": {
     "slide_type": "subslide"
    }
   },
   "source": [
    "Are there relationships between measures?"
   ]
  },
  {
   "cell_type": "code",
   "execution_count": 18,
   "id": "b0fbf32f",
   "metadata": {
    "slideshow": {
     "slide_type": "-"
    }
   },
   "outputs": [],
   "source": [
    "sns.pairplot(df[[\"Store Cost\", \"Store Sales\", \"Unit Sales\"]])"
   ]
  },
  {
   "cell_type": "code",
   "execution_count": 19,
   "id": "6bfafb16",
   "metadata": {
    "slideshow": {
     "slide_type": "subslide"
    }
   },
   "outputs": [
    {
     "data": {
      "text/html": [
       "<div>\n",
       "<style scoped>\n",
       "    .dataframe tbody tr th:only-of-type {\n",
       "        vertical-align: middle;\n",
       "    }\n",
       "\n",
       "    .dataframe tbody tr th {\n",
       "        vertical-align: top;\n",
       "    }\n",
       "\n",
       "    .dataframe thead th {\n",
       "        text-align: right;\n",
       "    }\n",
       "</style>\n",
       "<table border=\"1\" class=\"dataframe\">\n",
       "  <thead>\n",
       "    <tr style=\"text-align: right;\">\n",
       "      <th></th>\n",
       "      <th>Store Cost</th>\n",
       "      <th>Store Sales</th>\n",
       "      <th>Unit Sales</th>\n",
       "    </tr>\n",
       "  </thead>\n",
       "  <tbody>\n",
       "    <tr>\n",
       "      <th>Store Cost</th>\n",
       "      <td>1.000000</td>\n",
       "      <td>0.954650</td>\n",
       "      <td>0.492843</td>\n",
       "    </tr>\n",
       "    <tr>\n",
       "      <th>Store Sales</th>\n",
       "      <td>0.954650</td>\n",
       "      <td>1.000000</td>\n",
       "      <td>0.516071</td>\n",
       "    </tr>\n",
       "    <tr>\n",
       "      <th>Unit Sales</th>\n",
       "      <td>0.492843</td>\n",
       "      <td>0.516071</td>\n",
       "      <td>1.000000</td>\n",
       "    </tr>\n",
       "  </tbody>\n",
       "</table>\n",
       "</div>"
      ],
      "text/plain": [
       "             Store Cost  Store Sales  Unit Sales\n",
       "Store Cost     1.000000     0.954650    0.492843\n",
       "Store Sales    0.954650     1.000000    0.516071\n",
       "Unit Sales     0.492843     0.516071    1.000000"
      ]
     },
     "execution_count": 19,
     "metadata": {},
     "output_type": "execute_result"
    }
   ],
   "source": [
    "df[[\"Store Cost\", \"Store Sales\", \"Unit Sales\"]].corr()"
   ]
  },
  {
   "cell_type": "markdown",
   "id": "abccb6b3",
   "metadata": {
    "slideshow": {
     "slide_type": "slide"
    }
   },
   "source": [
    "## Design and build a relational DWH\n",
    "\n",
    "- Create the database on Amazon RDS\n",
    "- Design the relational schema of the DWH (which are the functional dependencies?)\n",
    "- Upload the tables into rhw DWH"
   ]
  },
  {
   "cell_type": "code",
   "execution_count": 20,
   "id": "4b474591",
   "metadata": {
    "slideshow": {
     "slide_type": "subslide"
    }
   },
   "outputs": [],
   "source": [
    "host = \"sensor-dwh.cd97tkze3ics.us-east-1.rds.amazonaws.com\"\n",
    "port = 5432\n",
    "user = \"postgres\"\n",
    "pwd = \"bigdata2022\"\n",
    "db = \"postgres\"\n",
    "\n",
    "from sqlalchemy import create_engine\n",
    "s = 'postgresql://{}:{}@{}:{}/{}'.format(user, pwd, host, str(port), db)\n",
    "engine = create_engine(s)"
   ]
  },
  {
   "cell_type": "markdown",
   "id": "3ae1f2f7",
   "metadata": {
    "slideshow": {
     "slide_type": "subslide"
    }
   },
   "source": [
    "Doing some ETL"
   ]
  },
  {
   "cell_type": "code",
   "execution_count": 21,
   "id": "a9ffe9d9",
   "metadata": {
    "slideshow": {
     "slide_type": "-"
    }
   },
   "outputs": [],
   "source": [
    "# DT_customer\n",
    "df[[\"C. City\", \"C. Country\", \"C. State\", \"Customer\", \"Yearly Income\"]] \\\n",
    "    .drop_duplicates() \\\n",
    "    .to_sql('customer', engine, index=False, if_exists='replace')"
   ]
  },
  {
   "cell_type": "code",
   "execution_count": 22,
   "id": "d1ba998d",
   "metadata": {
    "slideshow": {
     "slide_type": "-"
    }
   },
   "outputs": [],
   "source": [
    "# DT_store\n",
    "df[[\"S. City\", \"S. Country\", \"S. State\", \"Store\", \"Type\"]] \\\n",
    "    .drop_duplicates() \\\n",
    "    .to_sql('store', engine, index=False, if_exists='replace')"
   ]
  },
  {
   "cell_type": "code",
   "execution_count": 23,
   "id": "96e41154",
   "metadata": {
    "slideshow": {
     "slide_type": "subslide"
    }
   },
   "outputs": [],
   "source": [
    "# DT_product\n",
    "df[[\"Category\", \"Subcategory\", \"Family\", \"Product\"]] \\\n",
    "    .drop_duplicates() \\\n",
    "    .to_sql('product', engine, index=False, if_exists='replace')"
   ]
  },
  {
   "cell_type": "code",
   "execution_count": 24,
   "id": "adc547e0",
   "metadata": {
    "slideshow": {
     "slide_type": "-"
    }
   },
   "outputs": [],
   "source": [
    "# DT_date\n",
    "df[[\"Sales Date\"]] \\\n",
    "    .drop_duplicates() \\\n",
    "    .to_sql('date', engine, index=False, if_exists='replace')"
   ]
  },
  {
   "cell_type": "code",
   "execution_count": 25,
   "id": "836757ba",
   "metadata": {
    "slideshow": {
     "slide_type": "-"
    }
   },
   "outputs": [],
   "source": [
    "# FT\n",
    "df[[\"Customer\", \"Store\", \"Product\", \"Sales Date\", \"Store Sales\", \"Store Cost\", \"Unit Sales\"]] \\\n",
    "    .to_sql('sales', engine, index=False, if_exists='replace')"
   ]
  },
  {
   "cell_type": "markdown",
   "id": "755c57c7",
   "metadata": {
    "slideshow": {
     "slide_type": "slide"
    }
   },
   "source": [
    "## Query the DWH with Tableau (Desktop)\n",
    "\n",
    "- Import data from Amazon RDS into Tableau\n",
    "- Join the tables\n",
    "- Set `Sales Date` as a Datetime attribute both in the fact and dimension tables\n",
    "- Build the dimensions and hierarchies in Tableau\n",
    "- Complete the following exercises"
   ]
  },
  {
   "cell_type": "markdown",
   "id": "05217f88",
   "metadata": {
    "slideshow": {
     "slide_type": "subslide"
    }
   },
   "source": [
    "### Exercise 1\n",
    "\n",
    "1. Using a bar chart, display the `sum` of `Store Sales` for each `S. State`\n",
    "     - Which state has the highest sales?\n",
    "2. Drill down to view sales at the `S. City` level.\n",
    "     - Are there cities with much lower sales than others?\n",
    "3. How many stores (`Stores`) are there in each `S. State`? What about in each `S. City`?\n",
    "     - Tip: Use `COUNTD` aggregation. Why?\n",
    "4. Can low sales in some cities be imputed to the number of stores?\n",
    "     - Display sales at the `S. City` level (as done above) and associate the color property with the number of distinct stores (`COUNTD(store)`)"
   ]
  },
  {
   "cell_type": "markdown",
   "id": "e48bc498",
   "metadata": {
    "slideshow": {
     "slide_type": "subslide"
    }
   },
   "source": [
    "### Exercise 2\n",
    "\n",
    "5. Given the last visualization, associate the `S. Type` field with the color property.\n",
    "    - What interesting pattern can you see?\n",
    "6. Display the sales (`SUM`) for each `S. Type`.\n",
    "    - What discrepancy is possible to notice with respect to the previous chart?\n",
    "7. Associate the number of stores (`Store`) with the color property and the label property\n",
    "    - What caused the discrepancy between the previous two visualizations?"
   ]
  },
  {
   "cell_type": "markdown",
   "id": "76756d4c",
   "metadata": {
    "slideshow": {
     "slide_type": "subslide"
    }
   },
   "source": [
    "### Exercise 3\n",
    "\n",
    "8. Using a line chart, visualize the monthly sales trend\n",
    "    - What pattern is present?\n",
    "9. Divide the previous chart by `S. State` (one axis for each state)\n",
    "    - Is the previous pattern present in each `State`?\n",
    "    - Tip: by default the axes all have the same range: on any axis, right-click > `Edit Axis` > `Select Independent axis...`\n",
    "10. Given the previous chart, visualize how much impact the various `Family`s have on total sales while maintaining the monthly trend visualization\n",
    "    - What might be a good visualization?\n",
    "    - Tip: associate each Family with a mark property and possibly change the mark type\n",
    "    - Tip: you can change the mark type from the drop-down menu in the mark panel"
   ]
  },
  {
   "cell_type": "markdown",
   "id": "440f39be",
   "metadata": {
    "slideshow": {
     "slide_type": "slide"
    }
   },
   "source": [
    "## (Bonus) Plot the provenance graph\n",
    "\n",
    "- Plot the provenance graph representing the previous transformations using the PROV standard"
   ]
  },
  {
   "cell_type": "code",
   "execution_count": 26,
   "id": "d0995306",
   "metadata": {
    "slideshow": {
     "slide_type": "skip"
    }
   },
   "outputs": [],
   "source": [
    "from prov.model import ProvDocument\n",
    "from prov.dot import prov_to_dot\n",
    "from IPython.display import Image\n",
    "\n",
    "def plot():\n",
    "    # Create a new provenance document\n",
    "    d1 = ProvDocument()  # d1 is now an empty provenance document\n",
    "    \n",
    "    d1.add_namespace('s3', 'https://s3.console.aws.amazon.com/s3')\n",
    "    d1.add_namespace('rds', 'https://us-east-1.console.aws.amazon.com/rds')\n",
    "    d1.add_namespace('unibo', 'https://www.unibo.it')\n",
    "    d1.add_namespace('pd', 'https://pandas.pydata.org/')\n",
    "    \n",
    "    agent = d1.agent('unibo:mfrancia')\n",
    "\n",
    "    DT_time = d1.entity('rds:DT_time')\n",
    "    DT_customer = d1.entity('rds:DT_customer')\n",
    "    DT_store = d1.entity('rds:DT_store')\n",
    "    DT_product = d1.entity('rds:DT_product')\n",
    "    FT = d1.entity('rds:FT')\n",
    "    \n",
    "    etl = d1.activity('pd:etl')\n",
    "    d1.wasGeneratedBy(DT_time, etl)\n",
    "    d1.wasGeneratedBy(DT_customer, etl)\n",
    "    d1.wasGeneratedBy(DT_store, etl)\n",
    "    d1.wasGeneratedBy(DT_product, etl)\n",
    "    d1.wasGeneratedBy(FT, etl)\n",
    "    \n",
    "    processed_dataset = d1.entity('s3:sales_fact_1997.v0.0.1.csv')  # create an entity representing the processed dataset\n",
    "    d1.used(etl, processed_dataset)  # the activity used the dataset as input\n",
    "    append = d1.activity('pd:append')  # create the processing activity\n",
    "    d1.wasGeneratedBy(processed_dataset, append)  # the processed dataset has been created by the `append` activity\n",
    "    \n",
    "    for file_name in file_names:\n",
    "        original_dataset = d1.entity('s3:' + file_name)  # register the original datasets\n",
    "        d1.wasAttributedTo(original_dataset, agent)  # attribute the dataset to the agent who created it\n",
    "        d1.wasDerivedFrom(processed_dataset, original_dataset)  # the processed dataset has been derived from the original one\n",
    "        d1.used(append, original_dataset)  # the activity used the dataset as input\n",
    "\n",
    "    # visualize the graph\n",
    "    dot = prov_to_dot(d1)\n",
    "    dot.write_png('prov.png')\n",
    "    return Image('prov.png')"
   ]
  },
  {
   "cell_type": "code",
   "execution_count": 27,
   "id": "5ea20bb7",
   "metadata": {},
   "outputs": [
    {
     "data": {
      "image/png": "[encoded data removed]",
      "text/plain": [
       "<IPython.core.display.Image object>"
      ]
     },
     "execution_count": 27,
     "metadata": {},
     "output_type": "execute_result"
    }
   ],
   "source": [
    "plot()"
   ]
  }
 ],
 "metadata": {
  "celltoolbar": "Slideshow",
  "kernelspec": {
   "display_name": "conda_python3",
   "language": "python",
   "name": "conda_python3"
  },
  "language_info": {
   "codemirror_mode": {
    "name": "ipython",
    "version": 3
   },
   "file_extension": ".py",
   "mimetype": "text/x-python",
   "name": "python",
   "nbconvert_exporter": "python",
   "pygments_lexer": "ipython3",
   "version": "3.8.12"
  }
 },
 "nbformat": 4,
 "nbformat_minor": 5
}
