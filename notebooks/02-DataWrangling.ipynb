{
 "cells": [
  {
   "cell_type": "markdown",
   "id": "2714fdb3",
   "metadata": {
    "slideshow": {
     "slide_type": "slide"
    }
   },
   "source": [
    "# From data lake to data warehouse\n",
    "\n",
    "Disclaimer:\n",
    "- Link to the awsacademy login: https://awsacademy.instructure.com/login/canvas\n",
    "- At the end of the lab, remember to Stop/Destroy the created services. (Why?)\n",
    "- These slides are directly generated from the notebook (i.e., this notebook = slides)"
   ]
  },
  {
   "cell_type": "markdown",
   "id": "3934cfdd",
   "metadata": {
    "slideshow": {
     "slide_type": "subslide"
    }
   },
   "source": [
    "A data warehouse and a data lake serve different needs and use cases.\n",
    "\n",
    "A data lake stores relational data from business applications, and non-relational data \n",
    "- The structure of the data or schema is not defined when data is captured\n",
    "- You can store all of your data without careful design or the need to know what questions you might need answers \n",
    "\n",
    "A data warehouse is a database optimized to analyze relational data coming from business applications\n",
    "- The data structure and schema are defined in advance to optimize for fast SQL queries\n",
    "- The results are typically used for operational reporting and analysis\n",
    "- Data is cleaned, enriched, and transformed so it can act as the single source of truth\n",
    "\n",
    "Organizations are evolving their warehouse to include data lakes, and enable diverse query capabilities"
   ]
  },
  {
   "cell_type": "markdown",
   "id": "1ddfd883",
   "metadata": {
    "slideshow": {
     "slide_type": "subslide"
    }
   },
   "source": [
    "**Goal**: build a sub-module of the expert system, namely a DWH to monitor historical trends of soil moisture\n",
    "\n",
    "Necessary steps:\n",
    "\n",
    "1. Create a data lake (AWS S3)\n",
    "2. Collect and store the sensor data (manually)\n",
    "   - KISS: we start with a .csv with sensor data\n",
    "3. Do ETL (AWS SageMaker and/or AWS Glue)\n",
    "4. Build a (relational) data warehouse (AWS RDS)\n",
    "5. Query the data warehouse (Tableau)"
   ]
  },
  {
   "cell_type": "markdown",
   "id": "5e673bbe",
   "metadata": {
    "slideshow": {
     "slide_type": "slide"
    }
   },
   "source": [
    "## 1. Create a data lake\n",
    "\n",
    "See the AWS console\n",
    "- https://awsacademy.instructure.com/login/canvas"
   ]
  },
  {
   "cell_type": "markdown",
   "id": "3e6713b1",
   "metadata": {
    "slideshow": {
     "slide_type": "subslide"
    }
   },
   "source": [
    "![image](https://user-images.githubusercontent.com/18005592/200340672-756adacd-bad6-4aca-b7ca-8c03ff20d928.png)\n"
   ]
  },
  {
   "cell_type": "markdown",
   "id": "5189fd83",
   "metadata": {
    "slideshow": {
     "slide_type": "subslide"
    }
   },
   "source": [
    "![image](https://user-images.githubusercontent.com/18005592/200342442-edaa7560-95a2-47d1-b6b2-ccc4ae9abe0c.png)"
   ]
  },
  {
   "cell_type": "markdown",
   "id": "ec48f4bd",
   "metadata": {
    "slideshow": {
     "slide_type": "subslide"
    }
   },
   "source": [
    "Start the lab\n",
    "\n",
    "![image](https://user-images.githubusercontent.com/18005592/200342733-326a05b7-9f6e-438f-9749-1322412d7321.png)"
   ]
  },
  {
   "cell_type": "markdown",
   "id": "e3f7c42e",
   "metadata": {},
   "source": [
    "When AWS is green, click on it\n",
    "\n",
    "![image](https://user-images.githubusercontent.com/18005592/200343321-444d3d2b-3e95-4296-baaa-29cf10616736.png)"
   ]
  },
  {
   "cell_type": "markdown",
   "id": "3cd1cc58",
   "metadata": {
    "slideshow": {
     "slide_type": "subslide"
    }
   },
   "source": [
    "![image](https://user-images.githubusercontent.com/18005592/200344531-88e92bbb-c0c0-456e-a532-a116d8d330f4.png)"
   ]
  },
  {
   "cell_type": "markdown",
   "id": "a4140504",
   "metadata": {
    "slideshow": {
     "slide_type": "subslide"
    }
   },
   "source": [
    "AWS Simple Storage Service (S3) \n",
    "- A serverless object storage service offering industry-leading scalability, data availability, security, and performance. \n",
    "- Customers of all sizes and industries can store and protect any amount of data for virtually any use case, such as data lakes\n"
   ]
  },
  {
   "cell_type": "markdown",
   "id": "f894ac84",
   "metadata": {
    "slideshow": {
     "slide_type": "subslide"
    }
   },
   "source": [
    "Create two buckets:\n",
    "- `landing-raw-wateringsensors-123`\n",
    "- `staging-clean-wateringsensors-123`\n",
    "\n",
    "![image](https://user-images.githubusercontent.com/18005592/200345832-d3522fdb-92ee-4457-8a78-5c0449af6bc4.png)"
   ]
  },
  {
   "cell_type": "markdown",
   "id": "8486a205",
   "metadata": {
    "slideshow": {
     "slide_type": "skip"
    }
   },
   "source": [
    "![image](https://user-images.githubusercontent.com/18005592/200346937-410c49dc-6685-447c-9b18-4970f1954e6c.png)"
   ]
  },
  {
   "cell_type": "code",
   "execution_count": 1,
   "id": "4856dcd5",
   "metadata": {},
   "outputs": [],
   "source": [
    "input_bucket = \"s3://landing-raw-wateringsensors-123/\"\n",
    "output_bucket = \"s3://staging-clean-wateringsensors-123/\""
   ]
  },
  {
   "cell_type": "markdown",
   "id": "c6e9fb79",
   "metadata": {
    "slideshow": {
     "slide_type": "slide"
    }
   },
   "source": [
    "## 2. Collect and store the sensor data (manually)\n",
    "\n",
    "KISS: we start with a .csv with sensor data\n",
    "- http://big.csr.unibo.it/projects/nosql-datasets/watering-data-1661269649253.csv"
   ]
  },
  {
   "cell_type": "code",
   "execution_count": 2,
   "id": "ea4dbc87",
   "metadata": {
    "slideshow": {
     "slide_type": "skip"
    }
   },
   "outputs": [
    {
     "name": "stdout",
     "output_type": "stream",
     "text": [
      "Looking in indexes: https://pypi.org/simple, https://pip.repos.neuron.amazonaws.com\n",
      "Requirement already satisfied: awswrangler in /home/ec2-user/anaconda3/envs/python3/lib/python3.8/site-packages (2.17.0)\n",
      "Requirement already satisfied: requests-aws4auth<2.0.0,>=1.1.1 in /home/ec2-user/anaconda3/envs/python3/lib/python3.8/site-packages (from awswrangler) (1.1.2)\n",
      "Requirement already satisfied: boto3<2.0.0,>=1.24.11 in /home/ec2-user/anaconda3/envs/python3/lib/python3.8/site-packages (from awswrangler) (1.26.2)\n",
      "Requirement already satisfied: pyarrow<8.1.0,>=2.0.0 in /home/ec2-user/anaconda3/envs/python3/lib/python3.8/site-packages (from awswrangler) (7.0.0)\n",
      "Requirement already satisfied: pymysql<2.0.0,>=1.0.0 in /home/ec2-user/anaconda3/envs/python3/lib/python3.8/site-packages (from awswrangler) (1.0.2)\n",
      "Requirement already satisfied: opensearch-py<3,>=1 in /home/ec2-user/anaconda3/envs/python3/lib/python3.8/site-packages (from awswrangler) (2.0.0)\n",
      "Requirement already satisfied: pg8000<2.0.0,>=1.20.0 in /home/ec2-user/anaconda3/envs/python3/lib/python3.8/site-packages (from awswrangler) (1.29.3)\n",
      "Requirement already satisfied: numpy<2.0.0,>=1.21.0 in /home/ec2-user/anaconda3/envs/python3/lib/python3.8/site-packages (from awswrangler) (1.23.4)\n",
      "Requirement already satisfied: pandas<2.0.0,>=1.2.0 in /home/ec2-user/anaconda3/envs/python3/lib/python3.8/site-packages (from awswrangler) (1.3.4)\n",
      "Requirement already satisfied: botocore<2.0.0,>=1.27.11 in /home/ec2-user/anaconda3/envs/python3/lib/python3.8/site-packages (from awswrangler) (1.29.8)\n",
      "Requirement already satisfied: backoff<3.0.0,>=1.11.1 in /home/ec2-user/anaconda3/envs/python3/lib/python3.8/site-packages (from awswrangler) (2.2.1)\n",
      "Requirement already satisfied: progressbar2<5.0.0,>=4.0.0 in /home/ec2-user/anaconda3/envs/python3/lib/python3.8/site-packages (from awswrangler) (4.2.0)\n",
      "Requirement already satisfied: redshift-connector<2.1.0,>=2.0.889 in /home/ec2-user/anaconda3/envs/python3/lib/python3.8/site-packages (from awswrangler) (2.0.909)\n",
      "Requirement already satisfied: openpyxl<3.1.0,>=3.0.0 in /home/ec2-user/anaconda3/envs/python3/lib/python3.8/site-packages (from awswrangler) (3.0.9)\n",
      "Requirement already satisfied: jsonpath-ng<2.0.0,>=1.5.3 in /home/ec2-user/anaconda3/envs/python3/lib/python3.8/site-packages (from awswrangler) (1.5.3)\n",
      "Requirement already satisfied: gremlinpython<4.0.0,>=3.5.2 in /home/ec2-user/anaconda3/envs/python3/lib/python3.8/site-packages (from awswrangler) (3.6.1)\n",
      "Requirement already satisfied: s3transfer<0.7.0,>=0.6.0 in /home/ec2-user/anaconda3/envs/python3/lib/python3.8/site-packages (from boto3<2.0.0,>=1.24.11->awswrangler) (0.6.0)\n",
      "Requirement already satisfied: jmespath<2.0.0,>=0.7.1 in /home/ec2-user/anaconda3/envs/python3/lib/python3.8/site-packages (from boto3<2.0.0,>=1.24.11->awswrangler) (0.10.0)\n",
      "Requirement already satisfied: urllib3<1.27,>=1.25.4 in /home/ec2-user/anaconda3/envs/python3/lib/python3.8/site-packages (from botocore<2.0.0,>=1.27.11->awswrangler) (1.26.8)\n",
      "Requirement already satisfied: python-dateutil<3.0.0,>=2.1 in /home/ec2-user/anaconda3/envs/python3/lib/python3.8/site-packages (from botocore<2.0.0,>=1.27.11->awswrangler) (2.8.2)\n",
      "Requirement already satisfied: nest-asyncio in /home/ec2-user/anaconda3/envs/python3/lib/python3.8/site-packages (from gremlinpython<4.0.0,>=3.5.2->awswrangler) (1.5.1)\n",
      "Requirement already satisfied: isodate<1.0.0,>=0.6.0 in /home/ec2-user/anaconda3/envs/python3/lib/python3.8/site-packages (from gremlinpython<4.0.0,>=3.5.2->awswrangler) (0.6.1)\n",
      "Requirement already satisfied: aiohttp<=3.8.1,>=3.8.0 in /home/ec2-user/anaconda3/envs/python3/lib/python3.8/site-packages (from gremlinpython<4.0.0,>=3.5.2->awswrangler) (3.8.1)\n",
      "Requirement already satisfied: aenum<4.0.0,>=1.4.5 in /home/ec2-user/anaconda3/envs/python3/lib/python3.8/site-packages (from gremlinpython<4.0.0,>=3.5.2->awswrangler) (3.1.11)\n",
      "Requirement already satisfied: six in /home/ec2-user/anaconda3/envs/python3/lib/python3.8/site-packages (from jsonpath-ng<2.0.0,>=1.5.3->awswrangler) (1.16.0)\n",
      "Requirement already satisfied: decorator in /home/ec2-user/anaconda3/envs/python3/lib/python3.8/site-packages (from jsonpath-ng<2.0.0,>=1.5.3->awswrangler) (5.1.0)\n",
      "Requirement already satisfied: ply in /home/ec2-user/anaconda3/envs/python3/lib/python3.8/site-packages (from jsonpath-ng<2.0.0,>=1.5.3->awswrangler) (3.11)\n",
      "Requirement already satisfied: et-xmlfile in /home/ec2-user/anaconda3/envs/python3/lib/python3.8/site-packages (from openpyxl<3.1.0,>=3.0.0->awswrangler) (1.0.1)\n",
      "Requirement already satisfied: requests<3.0.0,>=2.4.0 in /home/ec2-user/anaconda3/envs/python3/lib/python3.8/site-packages (from opensearch-py<3,>=1->awswrangler) (2.26.0)\n",
      "Requirement already satisfied: certifi in /home/ec2-user/anaconda3/envs/python3/lib/python3.8/site-packages (from opensearch-py<3,>=1->awswrangler) (2021.10.8)\n",
      "Requirement already satisfied: pytz>=2017.3 in /home/ec2-user/anaconda3/envs/python3/lib/python3.8/site-packages (from pandas<2.0.0,>=1.2.0->awswrangler) (2021.3)\n",
      "Requirement already satisfied: scramp>=1.4.3 in /home/ec2-user/anaconda3/envs/python3/lib/python3.8/site-packages (from pg8000<2.0.0,>=1.20.0->awswrangler) (1.4.4)\n",
      "Requirement already satisfied: python-utils>=3.0.0 in /home/ec2-user/anaconda3/envs/python3/lib/python3.8/site-packages (from progressbar2<5.0.0,>=4.0.0->awswrangler) (3.4.5)\n",
      "Requirement already satisfied: beautifulsoup4<5.0.0,>=4.7.0 in /home/ec2-user/anaconda3/envs/python3/lib/python3.8/site-packages (from redshift-connector<2.1.0,>=2.0.889->awswrangler) (4.10.0)\n",
      "Requirement already satisfied: lxml>=4.6.5 in /home/ec2-user/anaconda3/envs/python3/lib/python3.8/site-packages (from redshift-connector<2.1.0,>=2.0.889->awswrangler) (4.8.0)\n",
      "Requirement already satisfied: setuptools in /home/ec2-user/anaconda3/envs/python3/lib/python3.8/site-packages (from redshift-connector<2.1.0,>=2.0.889->awswrangler) (59.4.0)\n",
      "Requirement already satisfied: packaging in /home/ec2-user/anaconda3/envs/python3/lib/python3.8/site-packages (from redshift-connector<2.1.0,>=2.0.889->awswrangler) (21.3)\n",
      "Requirement already satisfied: charset-normalizer<3.0,>=2.0 in /home/ec2-user/anaconda3/envs/python3/lib/python3.8/site-packages (from aiohttp<=3.8.1,>=3.8.0->gremlinpython<4.0.0,>=3.5.2->awswrangler) (2.0.8)\n",
      "Requirement already satisfied: async-timeout<5.0,>=4.0.0a3 in /home/ec2-user/anaconda3/envs/python3/lib/python3.8/site-packages (from aiohttp<=3.8.1,>=3.8.0->gremlinpython<4.0.0,>=3.5.2->awswrangler) (4.0.1)\n",
      "Requirement already satisfied: attrs>=17.3.0 in /home/ec2-user/anaconda3/envs/python3/lib/python3.8/site-packages (from aiohttp<=3.8.1,>=3.8.0->gremlinpython<4.0.0,>=3.5.2->awswrangler) (21.2.0)\n",
      "Requirement already satisfied: multidict<7.0,>=4.5 in /home/ec2-user/anaconda3/envs/python3/lib/python3.8/site-packages (from aiohttp<=3.8.1,>=3.8.0->gremlinpython<4.0.0,>=3.5.2->awswrangler) (5.2.0)\n",
      "Requirement already satisfied: frozenlist>=1.1.1 in /home/ec2-user/anaconda3/envs/python3/lib/python3.8/site-packages (from aiohttp<=3.8.1,>=3.8.0->gremlinpython<4.0.0,>=3.5.2->awswrangler) (1.2.0)\n",
      "Requirement already satisfied: aiosignal>=1.1.2 in /home/ec2-user/anaconda3/envs/python3/lib/python3.8/site-packages (from aiohttp<=3.8.1,>=3.8.0->gremlinpython<4.0.0,>=3.5.2->awswrangler) (1.2.0)\n",
      "Requirement already satisfied: yarl<2.0,>=1.0 in /home/ec2-user/anaconda3/envs/python3/lib/python3.8/site-packages (from aiohttp<=3.8.1,>=3.8.0->gremlinpython<4.0.0,>=3.5.2->awswrangler) (1.7.2)\n",
      "Requirement already satisfied: soupsieve>1.2 in /home/ec2-user/anaconda3/envs/python3/lib/python3.8/site-packages (from beautifulsoup4<5.0.0,>=4.7.0->redshift-connector<2.1.0,>=2.0.889->awswrangler) (2.3)\n",
      "Requirement already satisfied: idna<4,>=2.5 in /home/ec2-user/anaconda3/envs/python3/lib/python3.8/site-packages (from requests<3.0.0,>=2.4.0->opensearch-py<3,>=1->awswrangler) (3.1)\n",
      "Requirement already satisfied: asn1crypto>=1.5.1 in /home/ec2-user/anaconda3/envs/python3/lib/python3.8/site-packages (from scramp>=1.4.3->pg8000<2.0.0,>=1.20.0->awswrangler) (1.5.1)\n",
      "Requirement already satisfied: pyparsing!=3.0.5,>=2.0.2 in /home/ec2-user/anaconda3/envs/python3/lib/python3.8/site-packages (from packaging->redshift-connector<2.1.0,>=2.0.889->awswrangler) (3.0.6)\n",
      "Requirement already satisfied: typing-extensions>=3.6.5 in /home/ec2-user/anaconda3/envs/python3/lib/python3.8/site-packages (from async-timeout<5.0,>=4.0.0a3->aiohttp<=3.8.1,>=3.8.0->gremlinpython<4.0.0,>=3.5.2->awswrangler) (4.0.0)\n",
      "\u001b[33mWARNING: You are using pip version 22.0.4; however, version 22.3.1 is available.\n",
      "You should consider upgrading via the '/home/ec2-user/anaconda3/envs/python3/bin/python -m pip install --upgrade pip' command.\u001b[0m\u001b[33m\n",
      "\u001b[0mLooking in indexes: https://pypi.org/simple, https://pip.repos.neuron.amazonaws.com\n",
      "Requirement already satisfied: pandas in /home/ec2-user/anaconda3/envs/python3/lib/python3.8/site-packages (1.3.4)\n",
      "Requirement already satisfied: python-dateutil>=2.7.3 in /home/ec2-user/anaconda3/envs/python3/lib/python3.8/site-packages (from pandas) (2.8.2)\n",
      "Requirement already satisfied: pytz>=2017.3 in /home/ec2-user/anaconda3/envs/python3/lib/python3.8/site-packages (from pandas) (2021.3)\n",
      "Requirement already satisfied: numpy>=1.17.3 in /home/ec2-user/anaconda3/envs/python3/lib/python3.8/site-packages (from pandas) (1.23.4)\n",
      "Requirement already satisfied: six>=1.5 in /home/ec2-user/anaconda3/envs/python3/lib/python3.8/site-packages (from python-dateutil>=2.7.3->pandas) (1.16.0)\n",
      "\u001b[33mWARNING: You are using pip version 22.0.4; however, version 22.3.1 is available.\n",
      "You should consider upgrading via the '/home/ec2-user/anaconda3/envs/python3/bin/python -m pip install --upgrade pip' command.\u001b[0m\u001b[33m\n",
      "\u001b[0mLooking in indexes: https://pypi.org/simple, https://pip.repos.neuron.amazonaws.com\n",
      "Requirement already satisfied: sklearn in /home/ec2-user/anaconda3/envs/python3/lib/python3.8/site-packages (0.0)\n",
      "Requirement already satisfied: scikit-learn in /home/ec2-user/anaconda3/envs/python3/lib/python3.8/site-packages (from sklearn) (1.0.1)\n",
      "Requirement already satisfied: scipy>=1.1.0 in /home/ec2-user/anaconda3/envs/python3/lib/python3.8/site-packages (from scikit-learn->sklearn) (1.5.3)\n",
      "Requirement already satisfied: numpy>=1.14.6 in /home/ec2-user/anaconda3/envs/python3/lib/python3.8/site-packages (from scikit-learn->sklearn) (1.23.4)\n",
      "Requirement already satisfied: joblib>=0.11 in /home/ec2-user/anaconda3/envs/python3/lib/python3.8/site-packages (from scikit-learn->sklearn) (1.1.0)\n",
      "Requirement already satisfied: threadpoolctl>=2.0.0 in /home/ec2-user/anaconda3/envs/python3/lib/python3.8/site-packages (from scikit-learn->sklearn) (3.0.0)\n",
      "\u001b[33mWARNING: You are using pip version 22.0.4; however, version 22.3.1 is available.\n",
      "You should consider upgrading via the '/home/ec2-user/anaconda3/envs/python3/bin/python -m pip install --upgrade pip' command.\u001b[0m\u001b[33m\n",
      "\u001b[0mLooking in indexes: https://pypi.org/simple, https://pip.repos.neuron.amazonaws.com\n",
      "Requirement already satisfied: seaborn in /home/ec2-user/anaconda3/envs/python3/lib/python3.8/site-packages (0.11.2)\n",
      "Requirement already satisfied: numpy>=1.15 in /home/ec2-user/anaconda3/envs/python3/lib/python3.8/site-packages (from seaborn) (1.23.4)\n",
      "Requirement already satisfied: pandas>=0.23 in /home/ec2-user/anaconda3/envs/python3/lib/python3.8/site-packages (from seaborn) (1.3.4)\n",
      "Requirement already satisfied: matplotlib>=2.2 in /home/ec2-user/anaconda3/envs/python3/lib/python3.8/site-packages (from seaborn) (3.5.0)\n",
      "Requirement already satisfied: scipy>=1.0 in /home/ec2-user/anaconda3/envs/python3/lib/python3.8/site-packages (from seaborn) (1.5.3)\n",
      "Requirement already satisfied: packaging>=20.0 in /home/ec2-user/anaconda3/envs/python3/lib/python3.8/site-packages (from matplotlib>=2.2->seaborn) (21.3)\n",
      "Requirement already satisfied: pyparsing>=2.2.1 in /home/ec2-user/anaconda3/envs/python3/lib/python3.8/site-packages (from matplotlib>=2.2->seaborn) (3.0.6)\n",
      "Requirement already satisfied: kiwisolver>=1.0.1 in /home/ec2-user/anaconda3/envs/python3/lib/python3.8/site-packages (from matplotlib>=2.2->seaborn) (1.3.2)\n",
      "Requirement already satisfied: fonttools>=4.22.0 in /home/ec2-user/anaconda3/envs/python3/lib/python3.8/site-packages (from matplotlib>=2.2->seaborn) (4.28.2)\n",
      "Requirement already satisfied: python-dateutil>=2.7 in /home/ec2-user/anaconda3/envs/python3/lib/python3.8/site-packages (from matplotlib>=2.2->seaborn) (2.8.2)\n",
      "Requirement already satisfied: cycler>=0.10 in /home/ec2-user/anaconda3/envs/python3/lib/python3.8/site-packages (from matplotlib>=2.2->seaborn) (0.11.0)\n",
      "Requirement already satisfied: pillow>=6.2.0 in /home/ec2-user/anaconda3/envs/python3/lib/python3.8/site-packages (from matplotlib>=2.2->seaborn) (9.0.1)\n",
      "Requirement already satisfied: pytz>=2017.3 in /home/ec2-user/anaconda3/envs/python3/lib/python3.8/site-packages (from pandas>=0.23->seaborn) (2021.3)\n",
      "Requirement already satisfied: six>=1.5 in /home/ec2-user/anaconda3/envs/python3/lib/python3.8/site-packages (from python-dateutil>=2.7->matplotlib>=2.2->seaborn) (1.16.0)\n",
      "\u001b[33mWARNING: You are using pip version 22.0.4; however, version 22.3.1 is available.\n",
      "You should consider upgrading via the '/home/ec2-user/anaconda3/envs/python3/bin/python -m pip install --upgrade pip' command.\u001b[0m\u001b[33m\n",
      "\u001b[0m"
     ]
    }
   ],
   "source": [
    "!pip install awswrangler\n",
    "!pip install pandas\n",
    "!pip install sklearn\n",
    "!pip install seaborn"
   ]
  },
  {
   "cell_type": "code",
   "execution_count": 3,
   "id": "bca0e463",
   "metadata": {},
   "outputs": [],
   "source": [
    "import awswrangler as wr\n",
    "import pandas as pd\n",
    "file_name = \"watering-data-1661269649253.csv\"\n",
    "df = pd.read_csv(\"http://big.csr.unibo.it/projects/nosql-datasets/\" + file_name)\n",
    "# wr.s3.to_csv(df, path=input_bucket + file_name)"
   ]
  },
  {
   "cell_type": "markdown",
   "id": "1bb7ddad",
   "metadata": {
    "slideshow": {
     "slide_type": "slide"
    }
   },
   "source": [
    "## 3. Do ETL (AWS SageMaker)\n",
    "\n",
    "Amazon SageMaker\n",
    "- Fully managed service that provides machine learning (ML) capabilities for data scientists and developers to prepare, build, train, and deploy high-quality ML models efficiently"
   ]
  },
  {
   "cell_type": "markdown",
   "id": "7d1bbf08",
   "metadata": {
    "slideshow": {
     "slide_type": "subslide"
    }
   },
   "source": [
    "![image](https://user-images.githubusercontent.com/18005592/200364098-6390f3a4-e1cf-4041-9d88-ab425ed9933b.png)"
   ]
  },
  {
   "cell_type": "markdown",
   "id": "6b257d73",
   "metadata": {
    "slideshow": {
     "slide_type": "subslide"
    }
   },
   "source": [
    "![image](https://user-images.githubusercontent.com/18005592/200364480-53d6fe54-aac6-431c-a664-87712f82d2cf.png)"
   ]
  },
  {
   "cell_type": "markdown",
   "id": "ef027083",
   "metadata": {
    "slideshow": {
     "slide_type": "subslide"
    }
   },
   "source": [
    "![image](https://user-images.githubusercontent.com/18005592/200364714-37992354-a047-440e-bfe3-12df1e1264ad.png)"
   ]
  },
  {
   "cell_type": "markdown",
   "id": "4288afbd",
   "metadata": {
    "slideshow": {
     "slide_type": "subslide"
    }
   },
   "source": [
    "![image](https://user-images.githubusercontent.com/18005592/200364905-e6b7f5b6-ee52-4e8e-9df3-b2e8b9b5afb0.png)"
   ]
  },
  {
   "cell_type": "markdown",
   "id": "99212ae3",
   "metadata": {},
   "source": [
    "![image](https://user-images.githubusercontent.com/18005592/200365269-0b85f661-a0c8-4902-9c93-eb978b5226bd.png)"
   ]
  },
  {
   "cell_type": "code",
   "execution_count": 4,
   "id": "f93b6dd2",
   "metadata": {
    "slideshow": {
     "slide_type": "subslide"
    }
   },
   "outputs": [
    {
     "name": "stdout",
     "output_type": "stream",
     "text": [
      "s3://landing-raw-wateringsensors-123/watering-data-1661269649253.csv\n"
     ]
    },
    {
     "data": {
      "text/html": [
       "<div>\n",
       "<style scoped>\n",
       "    .dataframe tbody tr th:only-of-type {\n",
       "        vertical-align: middle;\n",
       "    }\n",
       "\n",
       "    .dataframe tbody tr th {\n",
       "        vertical-align: top;\n",
       "    }\n",
       "\n",
       "    .dataframe thead th {\n",
       "        text-align: right;\n",
       "    }\n",
       "</style>\n",
       "<table border=\"1\" class=\"dataframe\">\n",
       "  <thead>\n",
       "    <tr style=\"text-align: right;\">\n",
       "      <th></th>\n",
       "      <th>plantRow</th>\n",
       "      <th>detectedValueTypeId</th>\n",
       "      <th>yy</th>\n",
       "      <th>xx</th>\n",
       "      <th>value</th>\n",
       "      <th>unit</th>\n",
       "      <th>timestamp</th>\n",
       "      <th>zz</th>\n",
       "    </tr>\n",
       "  </thead>\n",
       "  <tbody>\n",
       "    <tr>\n",
       "      <th>0</th>\n",
       "      <td>T1 basso</td>\n",
       "      <td>GRND_WATER_G</td>\n",
       "      <td>-20.0</td>\n",
       "      <td>25.0</td>\n",
       "      <td>-21.616472</td>\n",
       "      <td>cbar</td>\n",
       "      <td>1628951453</td>\n",
       "      <td>NaN</td>\n",
       "    </tr>\n",
       "    <tr>\n",
       "      <th>1</th>\n",
       "      <td>T1 basso</td>\n",
       "      <td>GRND_WATER_G</td>\n",
       "      <td>-20.0</td>\n",
       "      <td>50.0</td>\n",
       "      <td>-113.354793</td>\n",
       "      <td>cbar</td>\n",
       "      <td>1628950550</td>\n",
       "      <td>NaN</td>\n",
       "    </tr>\n",
       "    <tr>\n",
       "      <th>2</th>\n",
       "      <td>T1 basso</td>\n",
       "      <td>GRND_WATER_G</td>\n",
       "      <td>-20.0</td>\n",
       "      <td>0.0</td>\n",
       "      <td>-21.041212</td>\n",
       "      <td>cbar</td>\n",
       "      <td>1628947848</td>\n",
       "      <td>0.0</td>\n",
       "    </tr>\n",
       "    <tr>\n",
       "      <th>3</th>\n",
       "      <td>T1 basso</td>\n",
       "      <td>GRND_WATER_G</td>\n",
       "      <td>-20.0</td>\n",
       "      <td>0.0</td>\n",
       "      <td>-21.328847</td>\n",
       "      <td>cbar</td>\n",
       "      <td>1628948747</td>\n",
       "      <td>0.0</td>\n",
       "    </tr>\n",
       "    <tr>\n",
       "      <th>4</th>\n",
       "      <td>T1 basso</td>\n",
       "      <td>GRND_WATER_G</td>\n",
       "      <td>-20.0</td>\n",
       "      <td>25.0</td>\n",
       "      <td>-130.458021</td>\n",
       "      <td>cbar</td>\n",
       "      <td>1628657108</td>\n",
       "      <td>NaN</td>\n",
       "    </tr>\n",
       "    <tr>\n",
       "      <th>...</th>\n",
       "      <td>...</td>\n",
       "      <td>...</td>\n",
       "      <td>...</td>\n",
       "      <td>...</td>\n",
       "      <td>...</td>\n",
       "      <td>...</td>\n",
       "      <td>...</td>\n",
       "      <td>...</td>\n",
       "    </tr>\n",
       "    <tr>\n",
       "      <th>29059</th>\n",
       "      <td>T1 basso</td>\n",
       "      <td>GRND_WATER_G</td>\n",
       "      <td>-60.0</td>\n",
       "      <td>0.0</td>\n",
       "      <td>-74.186077</td>\n",
       "      <td>cbar</td>\n",
       "      <td>1627102804</td>\n",
       "      <td>0.0</td>\n",
       "    </tr>\n",
       "    <tr>\n",
       "      <th>29060</th>\n",
       "      <td>T1 basso</td>\n",
       "      <td>GRND_WATER_G</td>\n",
       "      <td>-60.0</td>\n",
       "      <td>25.0</td>\n",
       "      <td>-209.033680</td>\n",
       "      <td>cbar</td>\n",
       "      <td>1627101007</td>\n",
       "      <td>NaN</td>\n",
       "    </tr>\n",
       "    <tr>\n",
       "      <th>29061</th>\n",
       "      <td>T1 basso</td>\n",
       "      <td>GRND_WATER_G</td>\n",
       "      <td>-60.0</td>\n",
       "      <td>50.0</td>\n",
       "      <td>-352.458317</td>\n",
       "      <td>cbar</td>\n",
       "      <td>1627101905</td>\n",
       "      <td>NaN</td>\n",
       "    </tr>\n",
       "    <tr>\n",
       "      <th>29062</th>\n",
       "      <td>T1 basso</td>\n",
       "      <td>GRND_WATER_G</td>\n",
       "      <td>-60.0</td>\n",
       "      <td>50.0</td>\n",
       "      <td>-352.458317</td>\n",
       "      <td>cbar</td>\n",
       "      <td>1627101007</td>\n",
       "      <td>NaN</td>\n",
       "    </tr>\n",
       "    <tr>\n",
       "      <th>29063</th>\n",
       "      <td>T1 basso</td>\n",
       "      <td>GRND_WATER_G</td>\n",
       "      <td>-60.0</td>\n",
       "      <td>25.0</td>\n",
       "      <td>-208.705472</td>\n",
       "      <td>cbar</td>\n",
       "      <td>1627102804</td>\n",
       "      <td>NaN</td>\n",
       "    </tr>\n",
       "  </tbody>\n",
       "</table>\n",
       "<p>29064 rows × 8 columns</p>\n",
       "</div>"
      ],
      "text/plain": [
       "       plantRow detectedValueTypeId    yy    xx       value  unit   timestamp  \\\n",
       "0      T1 basso        GRND_WATER_G -20.0  25.0  -21.616472  cbar  1628951453   \n",
       "1      T1 basso        GRND_WATER_G -20.0  50.0 -113.354793  cbar  1628950550   \n",
       "2      T1 basso        GRND_WATER_G -20.0   0.0  -21.041212  cbar  1628947848   \n",
       "3      T1 basso        GRND_WATER_G -20.0   0.0  -21.328847  cbar  1628948747   \n",
       "4      T1 basso        GRND_WATER_G -20.0  25.0 -130.458021  cbar  1628657108   \n",
       "...         ...                 ...   ...   ...         ...   ...         ...   \n",
       "29059  T1 basso        GRND_WATER_G -60.0   0.0  -74.186077  cbar  1627102804   \n",
       "29060  T1 basso        GRND_WATER_G -60.0  25.0 -209.033680  cbar  1627101007   \n",
       "29061  T1 basso        GRND_WATER_G -60.0  50.0 -352.458317  cbar  1627101905   \n",
       "29062  T1 basso        GRND_WATER_G -60.0  50.0 -352.458317  cbar  1627101007   \n",
       "29063  T1 basso        GRND_WATER_G -60.0  25.0 -208.705472  cbar  1627102804   \n",
       "\n",
       "        zz  \n",
       "0      NaN  \n",
       "1      NaN  \n",
       "2      0.0  \n",
       "3      0.0  \n",
       "4      NaN  \n",
       "...    ...  \n",
       "29059  0.0  \n",
       "29060  NaN  \n",
       "29061  NaN  \n",
       "29062  NaN  \n",
       "29063  NaN  \n",
       "\n",
       "[29064 rows x 8 columns]"
      ]
     },
     "execution_count": 4,
     "metadata": {},
     "output_type": "execute_result"
    }
   ],
   "source": [
    "# import the data\n",
    "print(input_bucket + file_name)\n",
    "df = wr.s3.read_csv(input_bucket + file_name)\n",
    "df"
   ]
  },
  {
   "cell_type": "markdown",
   "id": "2e622af3",
   "metadata": {
    "slideshow": {
     "slide_type": "subslide"
    }
   },
   "source": [
    "Data understanding\n",
    "\n",
    "- `plantRow`: name of the field in which we have the sensors\n",
    "- `detectedValueTypeId`: type of the sensor data\n",
    "- `xx`, `yy`, and `zz`: displacement of the sensor with respect to the dripper\n",
    "- `value`: measurement\n",
    "- `unit`: unit of measurement\n",
    "- `timestamp`: when the measurement has been recorded"
   ]
  },
  {
   "cell_type": "markdown",
   "id": "443e30f9",
   "metadata": {
    "slideshow": {
     "slide_type": "subslide"
    }
   },
   "source": [
    "Data profiling"
   ]
  },
  {
   "cell_type": "code",
   "execution_count": 5,
   "id": "51d9f907",
   "metadata": {
    "slideshow": {
     "slide_type": "subslide"
    }
   },
   "outputs": [
    {
     "data": {
      "text/html": [
       "<div>\n",
       "<style scoped>\n",
       "    .dataframe tbody tr th:only-of-type {\n",
       "        vertical-align: middle;\n",
       "    }\n",
       "\n",
       "    .dataframe tbody tr th {\n",
       "        vertical-align: top;\n",
       "    }\n",
       "\n",
       "    .dataframe thead th {\n",
       "        text-align: right;\n",
       "    }\n",
       "</style>\n",
       "<table border=\"1\" class=\"dataframe\">\n",
       "  <thead>\n",
       "    <tr style=\"text-align: right;\">\n",
       "      <th></th>\n",
       "      <th>count</th>\n",
       "      <th>mean</th>\n",
       "      <th>std</th>\n",
       "      <th>min</th>\n",
       "      <th>25%</th>\n",
       "      <th>50%</th>\n",
       "      <th>75%</th>\n",
       "      <th>max</th>\n",
       "    </tr>\n",
       "  </thead>\n",
       "  <tbody>\n",
       "    <tr>\n",
       "      <th>yy</th>\n",
       "      <td>28512.0</td>\n",
       "      <td>-4.240741e+01</td>\n",
       "      <td>16.099585</td>\n",
       "      <td>-6.000000e+01</td>\n",
       "      <td>-6.000000e+01</td>\n",
       "      <td>-4.000000e+01</td>\n",
       "      <td>-2.000000e+01</td>\n",
       "      <td>-2.000000e+01</td>\n",
       "    </tr>\n",
       "    <tr>\n",
       "      <th>xx</th>\n",
       "      <td>28512.0</td>\n",
       "      <td>3.875000e+01</td>\n",
       "      <td>29.660046</td>\n",
       "      <td>0.000000e+00</td>\n",
       "      <td>1.875000e+01</td>\n",
       "      <td>3.750000e+01</td>\n",
       "      <td>5.750000e+01</td>\n",
       "      <td>8.000000e+01</td>\n",
       "    </tr>\n",
       "    <tr>\n",
       "      <th>value</th>\n",
       "      <td>29064.0</td>\n",
       "      <td>-1.821906e+02</td>\n",
       "      <td>506.803601</td>\n",
       "      <td>-9.885007e+02</td>\n",
       "      <td>-3.890425e+02</td>\n",
       "      <td>-1.446921e+02</td>\n",
       "      <td>-2.430051e+01</td>\n",
       "      <td>3.641000e+03</td>\n",
       "    </tr>\n",
       "    <tr>\n",
       "      <th>timestamp</th>\n",
       "      <td>29064.0</td>\n",
       "      <td>1.627720e+09</td>\n",
       "      <td>757387.611829</td>\n",
       "      <td>1.626307e+09</td>\n",
       "      <td>1.627103e+09</td>\n",
       "      <td>1.627749e+09</td>\n",
       "      <td>1.628371e+09</td>\n",
       "      <td>1.628985e+09</td>\n",
       "    </tr>\n",
       "    <tr>\n",
       "      <th>zz</th>\n",
       "      <td>14256.0</td>\n",
       "      <td>0.000000e+00</td>\n",
       "      <td>0.000000</td>\n",
       "      <td>0.000000e+00</td>\n",
       "      <td>0.000000e+00</td>\n",
       "      <td>0.000000e+00</td>\n",
       "      <td>0.000000e+00</td>\n",
       "      <td>0.000000e+00</td>\n",
       "    </tr>\n",
       "  </tbody>\n",
       "</table>\n",
       "</div>"
      ],
      "text/plain": [
       "             count          mean            std           min           25%  \\\n",
       "yy         28512.0 -4.240741e+01      16.099585 -6.000000e+01 -6.000000e+01   \n",
       "xx         28512.0  3.875000e+01      29.660046  0.000000e+00  1.875000e+01   \n",
       "value      29064.0 -1.821906e+02     506.803601 -9.885007e+02 -3.890425e+02   \n",
       "timestamp  29064.0  1.627720e+09  757387.611829  1.626307e+09  1.627103e+09   \n",
       "zz         14256.0  0.000000e+00       0.000000  0.000000e+00  0.000000e+00   \n",
       "\n",
       "                    50%           75%           max  \n",
       "yy        -4.000000e+01 -2.000000e+01 -2.000000e+01  \n",
       "xx         3.750000e+01  5.750000e+01  8.000000e+01  \n",
       "value     -1.446921e+02 -2.430051e+01  3.641000e+03  \n",
       "timestamp  1.627749e+09  1.628371e+09  1.628985e+09  \n",
       "zz         0.000000e+00  0.000000e+00  0.000000e+00  "
      ]
     },
     "execution_count": 5,
     "metadata": {},
     "output_type": "execute_result"
    }
   ],
   "source": [
    "df.describe().transpose()"
   ]
  },
  {
   "cell_type": "code",
   "execution_count": 6,
   "id": "f1782263",
   "metadata": {
    "slideshow": {
     "slide_type": "fragment"
    }
   },
   "outputs": [
    {
     "name": "stdout",
     "output_type": "stream",
     "text": [
      "<class 'pandas.core.frame.DataFrame'>\n",
      "RangeIndex: 29064 entries, 0 to 29063\n",
      "Data columns (total 8 columns):\n",
      " #   Column               Non-Null Count  Dtype  \n",
      "---  ------               --------------  -----  \n",
      " 0   plantRow             29064 non-null  object \n",
      " 1   detectedValueTypeId  29064 non-null  object \n",
      " 2   yy                   28512 non-null  float64\n",
      " 3   xx                   28512 non-null  float64\n",
      " 4   value                29064 non-null  float64\n",
      " 5   unit                 29064 non-null  object \n",
      " 6   timestamp            29064 non-null  int64  \n",
      " 7   zz                   14256 non-null  float64\n",
      "dtypes: float64(4), int64(1), object(3)\n",
      "memory usage: 1.8+ MB\n"
     ]
    }
   ],
   "source": [
    "df.info()"
   ]
  },
  {
   "cell_type": "markdown",
   "id": "2b109536",
   "metadata": {
    "slideshow": {
     "slide_type": "subslide"
    }
   },
   "source": [
    "Data distribution"
   ]
  },
  {
   "cell_type": "code",
   "execution_count": 7,
   "id": "a737d073",
   "metadata": {
    "slideshow": {
     "slide_type": "skip"
    }
   },
   "outputs": [],
   "source": [
    "import math\n",
    "import matplotlib.pyplot as plt\n",
    "\n",
    "def plot(df):\n",
    "    cols = 5\n",
    "    rows = math.ceil(len(df.columns) / cols)\n",
    "\n",
    "    fig, axs = fig, ax = plt.subplots(rows, cols, figsize = (3 * cols, 2 * rows))\n",
    "    i = 0\n",
    "\n",
    "    for x in df.columns:\n",
    "        ax = axs[int(i / cols)][i % cols]\n",
    "        # df[x].value_counts().plot(kind=\"bar\", ax=ax)\n",
    "        df[x].hist(ax=ax)\n",
    "        ax.set_title(x)\n",
    "        i += 1\n",
    "    \n",
    "    fig.tight_layout()"
   ]
  },
  {
   "cell_type": "code",
   "execution_count": 8,
   "id": "367d3f68",
   "metadata": {
    "slideshow": {
     "slide_type": "-"
    }
   },
   "outputs": [
    {
     "data": {
      "image/png": "[encoded data removed]",
      "text/plain": [
       "<Figure size 1080x288 with 10 Axes>"
      ]
     },
     "metadata": {
      "needs_background": "light"
     },
     "output_type": "display_data"
    }
   ],
   "source": [
    "plot(df)"
   ]
  },
  {
   "cell_type": "markdown",
   "id": "5d6a8e8a",
   "metadata": {
    "slideshow": {
     "slide_type": "subslide"
    }
   },
   "source": [
    "The `zz` column contains missing values and a single non-null value (`0`), what should we do?"
   ]
  },
  {
   "cell_type": "code",
   "execution_count": 9,
   "id": "8f143cd9",
   "metadata": {},
   "outputs": [
    {
     "data": {
      "text/html": [
       "<div>\n",
       "<style scoped>\n",
       "    .dataframe tbody tr th:only-of-type {\n",
       "        vertical-align: middle;\n",
       "    }\n",
       "\n",
       "    .dataframe tbody tr th {\n",
       "        vertical-align: top;\n",
       "    }\n",
       "\n",
       "    .dataframe thead th {\n",
       "        text-align: right;\n",
       "    }\n",
       "</style>\n",
       "<table border=\"1\" class=\"dataframe\">\n",
       "  <thead>\n",
       "    <tr style=\"text-align: right;\">\n",
       "      <th></th>\n",
       "      <th>plantRow</th>\n",
       "      <th>detectedValueTypeId</th>\n",
       "      <th>yy</th>\n",
       "      <th>xx</th>\n",
       "      <th>value</th>\n",
       "      <th>unit</th>\n",
       "      <th>timestamp</th>\n",
       "    </tr>\n",
       "  </thead>\n",
       "  <tbody>\n",
       "    <tr>\n",
       "      <th>0</th>\n",
       "      <td>T1 basso</td>\n",
       "      <td>GRND_WATER_G</td>\n",
       "      <td>-20.0</td>\n",
       "      <td>25.0</td>\n",
       "      <td>-21.616472</td>\n",
       "      <td>cbar</td>\n",
       "      <td>1628951453</td>\n",
       "    </tr>\n",
       "    <tr>\n",
       "      <th>1</th>\n",
       "      <td>T1 basso</td>\n",
       "      <td>GRND_WATER_G</td>\n",
       "      <td>-20.0</td>\n",
       "      <td>50.0</td>\n",
       "      <td>-113.354793</td>\n",
       "      <td>cbar</td>\n",
       "      <td>1628950550</td>\n",
       "    </tr>\n",
       "    <tr>\n",
       "      <th>2</th>\n",
       "      <td>T1 basso</td>\n",
       "      <td>GRND_WATER_G</td>\n",
       "      <td>-20.0</td>\n",
       "      <td>0.0</td>\n",
       "      <td>-21.041212</td>\n",
       "      <td>cbar</td>\n",
       "      <td>1628947848</td>\n",
       "    </tr>\n",
       "    <tr>\n",
       "      <th>3</th>\n",
       "      <td>T1 basso</td>\n",
       "      <td>GRND_WATER_G</td>\n",
       "      <td>-20.0</td>\n",
       "      <td>0.0</td>\n",
       "      <td>-21.328847</td>\n",
       "      <td>cbar</td>\n",
       "      <td>1628948747</td>\n",
       "    </tr>\n",
       "    <tr>\n",
       "      <th>4</th>\n",
       "      <td>T1 basso</td>\n",
       "      <td>GRND_WATER_G</td>\n",
       "      <td>-20.0</td>\n",
       "      <td>25.0</td>\n",
       "      <td>-130.458021</td>\n",
       "      <td>cbar</td>\n",
       "      <td>1628657108</td>\n",
       "    </tr>\n",
       "    <tr>\n",
       "      <th>...</th>\n",
       "      <td>...</td>\n",
       "      <td>...</td>\n",
       "      <td>...</td>\n",
       "      <td>...</td>\n",
       "      <td>...</td>\n",
       "      <td>...</td>\n",
       "      <td>...</td>\n",
       "    </tr>\n",
       "    <tr>\n",
       "      <th>29059</th>\n",
       "      <td>T1 basso</td>\n",
       "      <td>GRND_WATER_G</td>\n",
       "      <td>-60.0</td>\n",
       "      <td>0.0</td>\n",
       "      <td>-74.186077</td>\n",
       "      <td>cbar</td>\n",
       "      <td>1627102804</td>\n",
       "    </tr>\n",
       "    <tr>\n",
       "      <th>29060</th>\n",
       "      <td>T1 basso</td>\n",
       "      <td>GRND_WATER_G</td>\n",
       "      <td>-60.0</td>\n",
       "      <td>25.0</td>\n",
       "      <td>-209.033680</td>\n",
       "      <td>cbar</td>\n",
       "      <td>1627101007</td>\n",
       "    </tr>\n",
       "    <tr>\n",
       "      <th>29061</th>\n",
       "      <td>T1 basso</td>\n",
       "      <td>GRND_WATER_G</td>\n",
       "      <td>-60.0</td>\n",
       "      <td>50.0</td>\n",
       "      <td>-352.458317</td>\n",
       "      <td>cbar</td>\n",
       "      <td>1627101905</td>\n",
       "    </tr>\n",
       "    <tr>\n",
       "      <th>29062</th>\n",
       "      <td>T1 basso</td>\n",
       "      <td>GRND_WATER_G</td>\n",
       "      <td>-60.0</td>\n",
       "      <td>50.0</td>\n",
       "      <td>-352.458317</td>\n",
       "      <td>cbar</td>\n",
       "      <td>1627101007</td>\n",
       "    </tr>\n",
       "    <tr>\n",
       "      <th>29063</th>\n",
       "      <td>T1 basso</td>\n",
       "      <td>GRND_WATER_G</td>\n",
       "      <td>-60.0</td>\n",
       "      <td>25.0</td>\n",
       "      <td>-208.705472</td>\n",
       "      <td>cbar</td>\n",
       "      <td>1627102804</td>\n",
       "    </tr>\n",
       "  </tbody>\n",
       "</table>\n",
       "<p>29064 rows × 7 columns</p>\n",
       "</div>"
      ],
      "text/plain": [
       "       plantRow detectedValueTypeId    yy    xx       value  unit   timestamp\n",
       "0      T1 basso        GRND_WATER_G -20.0  25.0  -21.616472  cbar  1628951453\n",
       "1      T1 basso        GRND_WATER_G -20.0  50.0 -113.354793  cbar  1628950550\n",
       "2      T1 basso        GRND_WATER_G -20.0   0.0  -21.041212  cbar  1628947848\n",
       "3      T1 basso        GRND_WATER_G -20.0   0.0  -21.328847  cbar  1628948747\n",
       "4      T1 basso        GRND_WATER_G -20.0  25.0 -130.458021  cbar  1628657108\n",
       "...         ...                 ...   ...   ...         ...   ...         ...\n",
       "29059  T1 basso        GRND_WATER_G -60.0   0.0  -74.186077  cbar  1627102804\n",
       "29060  T1 basso        GRND_WATER_G -60.0  25.0 -209.033680  cbar  1627101007\n",
       "29061  T1 basso        GRND_WATER_G -60.0  50.0 -352.458317  cbar  1627101905\n",
       "29062  T1 basso        GRND_WATER_G -60.0  50.0 -352.458317  cbar  1627101007\n",
       "29063  T1 basso        GRND_WATER_G -60.0  25.0 -208.705472  cbar  1627102804\n",
       "\n",
       "[29064 rows x 7 columns]"
      ]
     },
     "execution_count": 9,
     "metadata": {},
     "output_type": "execute_result"
    }
   ],
   "source": [
    "if \"zz\" in df.columns:\n",
    "    df = df.drop(columns=[\"zz\"])\n",
    "df"
   ]
  },
  {
   "cell_type": "code",
   "execution_count": 10,
   "id": "15edd3b4",
   "metadata": {
    "slideshow": {
     "slide_type": "skip"
    }
   },
   "outputs": [
    {
     "data": {
      "text/plain": [
       "xx    yy   \n",
       "0.0   -60.0    2790\n",
       "      -40.0    2406\n",
       "      -20.0    1932\n",
       "25.0  -60.0    2790\n",
       "      -40.0    2406\n",
       "      -20.0    1932\n",
       "50.0  -60.0    2790\n",
       "      -40.0    2406\n",
       "      -20.0    1932\n",
       "80.0  -60.0    2790\n",
       "      -40.0    2406\n",
       "      -20.0    1932\n",
       "Name: timestamp, dtype: int64"
      ]
     },
     "execution_count": 10,
     "metadata": {},
     "output_type": "execute_result"
    }
   ],
   "source": [
    "df.groupby([\"xx\", \"yy\"])[\"timestamp\"].count()"
   ]
  },
  {
   "cell_type": "code",
   "execution_count": 11,
   "id": "9d84123e",
   "metadata": {
    "slideshow": {
     "slide_type": "skip"
    }
   },
   "outputs": [
    {
     "data": {
      "text/plain": [
       "yy     xx  \n",
       "-60.0  0.0     2790\n",
       "       25.0    2790\n",
       "       50.0    2790\n",
       "       80.0    2790\n",
       "-40.0  0.0     2406\n",
       "       25.0    2406\n",
       "       50.0    2406\n",
       "       80.0    2406\n",
       "-20.0  0.0     1932\n",
       "       25.0    1932\n",
       "       50.0    1932\n",
       "       80.0    1932\n",
       "Name: timestamp, dtype: int64"
      ]
     },
     "execution_count": 11,
     "metadata": {},
     "output_type": "execute_result"
    }
   ],
   "source": [
    "df.groupby([\"yy\", \"xx\"])[\"timestamp\"].count()"
   ]
  },
  {
   "cell_type": "markdown",
   "id": "0b7ec346",
   "metadata": {
    "slideshow": {
     "slide_type": "subslide"
    }
   },
   "source": [
    "What else can we do?\n",
    "\n",
    "- Do we need to store the `plantRow`?\n",
    "- Do the sensors from the same `detectedValueTypeId` share the same `unit`?\n",
    "- Do we care about all the sensor types (i.e., `detectedValueTypeId`)?"
   ]
  },
  {
   "cell_type": "code",
   "execution_count": 12,
   "id": "ce01db2f",
   "metadata": {},
   "outputs": [
    {
     "data": {
      "text/html": [
       "<div>\n",
       "<style scoped>\n",
       "    .dataframe tbody tr th:only-of-type {\n",
       "        vertical-align: middle;\n",
       "    }\n",
       "\n",
       "    .dataframe tbody tr th {\n",
       "        vertical-align: top;\n",
       "    }\n",
       "\n",
       "    .dataframe thead th {\n",
       "        text-align: right;\n",
       "    }\n",
       "</style>\n",
       "<table border=\"1\" class=\"dataframe\">\n",
       "  <thead>\n",
       "    <tr style=\"text-align: right;\">\n",
       "      <th></th>\n",
       "      <th>plantRow</th>\n",
       "      <th>yy</th>\n",
       "      <th>xx</th>\n",
       "      <th>value</th>\n",
       "      <th>unit</th>\n",
       "      <th>timestamp</th>\n",
       "    </tr>\n",
       "    <tr>\n",
       "      <th>detectedValueTypeId</th>\n",
       "      <th></th>\n",
       "      <th></th>\n",
       "      <th></th>\n",
       "      <th></th>\n",
       "      <th></th>\n",
       "      <th></th>\n",
       "    </tr>\n",
       "  </thead>\n",
       "  <tbody>\n",
       "    <tr>\n",
       "      <th>BATTERY_TENS</th>\n",
       "      <td>1</td>\n",
       "      <td>0</td>\n",
       "      <td>0</td>\n",
       "      <td>7</td>\n",
       "      <td>1</td>\n",
       "      <td>391</td>\n",
       "    </tr>\n",
       "    <tr>\n",
       "      <th>DRIPPER</th>\n",
       "      <td>1</td>\n",
       "      <td>0</td>\n",
       "      <td>0</td>\n",
       "      <td>34</td>\n",
       "      <td>1</td>\n",
       "      <td>153</td>\n",
       "    </tr>\n",
       "    <tr>\n",
       "      <th>GRND_WATER_G</th>\n",
       "      <td>1</td>\n",
       "      <td>3</td>\n",
       "      <td>4</td>\n",
       "      <td>2362</td>\n",
       "      <td>1</td>\n",
       "      <td>6668</td>\n",
       "    </tr>\n",
       "  </tbody>\n",
       "</table>\n",
       "</div>"
      ],
      "text/plain": [
       "                     plantRow  yy  xx  value  unit  timestamp\n",
       "detectedValueTypeId                                          \n",
       "BATTERY_TENS                1   0   0      7     1        391\n",
       "DRIPPER                     1   0   0     34     1        153\n",
       "GRND_WATER_G                1   3   4   2362     1       6668"
      ]
     },
     "execution_count": 12,
     "metadata": {},
     "output_type": "execute_result"
    }
   ],
   "source": [
    "df.groupby([\"detectedValueTypeId\"]).nunique()"
   ]
  },
  {
   "cell_type": "markdown",
   "id": "fae00bc0",
   "metadata": {
    "slideshow": {
     "slide_type": "subslide"
    }
   },
   "source": [
    "Drop the \"useless\" columns"
   ]
  },
  {
   "cell_type": "code",
   "execution_count": 13,
   "id": "0b5a859a",
   "metadata": {},
   "outputs": [
    {
     "data": {
      "text/html": [
       "<div>\n",
       "<style scoped>\n",
       "    .dataframe tbody tr th:only-of-type {\n",
       "        vertical-align: middle;\n",
       "    }\n",
       "\n",
       "    .dataframe tbody tr th {\n",
       "        vertical-align: top;\n",
       "    }\n",
       "\n",
       "    .dataframe thead th {\n",
       "        text-align: right;\n",
       "    }\n",
       "</style>\n",
       "<table border=\"1\" class=\"dataframe\">\n",
       "  <thead>\n",
       "    <tr style=\"text-align: right;\">\n",
       "      <th></th>\n",
       "      <th>plantRow</th>\n",
       "      <th>detectedValueTypeId</th>\n",
       "      <th>yy</th>\n",
       "      <th>xx</th>\n",
       "      <th>value</th>\n",
       "      <th>unit</th>\n",
       "      <th>timestamp</th>\n",
       "    </tr>\n",
       "  </thead>\n",
       "  <tbody>\n",
       "    <tr>\n",
       "      <th>0</th>\n",
       "      <td>T1 basso</td>\n",
       "      <td>GRND_WATER_G</td>\n",
       "      <td>-20.0</td>\n",
       "      <td>25.0</td>\n",
       "      <td>-21.616472</td>\n",
       "      <td>cbar</td>\n",
       "      <td>1628951453</td>\n",
       "    </tr>\n",
       "    <tr>\n",
       "      <th>1</th>\n",
       "      <td>T1 basso</td>\n",
       "      <td>GRND_WATER_G</td>\n",
       "      <td>-20.0</td>\n",
       "      <td>50.0</td>\n",
       "      <td>-113.354793</td>\n",
       "      <td>cbar</td>\n",
       "      <td>1628950550</td>\n",
       "    </tr>\n",
       "    <tr>\n",
       "      <th>2</th>\n",
       "      <td>T1 basso</td>\n",
       "      <td>GRND_WATER_G</td>\n",
       "      <td>-20.0</td>\n",
       "      <td>0.0</td>\n",
       "      <td>-21.041212</td>\n",
       "      <td>cbar</td>\n",
       "      <td>1628947848</td>\n",
       "    </tr>\n",
       "    <tr>\n",
       "      <th>3</th>\n",
       "      <td>T1 basso</td>\n",
       "      <td>GRND_WATER_G</td>\n",
       "      <td>-20.0</td>\n",
       "      <td>0.0</td>\n",
       "      <td>-21.328847</td>\n",
       "      <td>cbar</td>\n",
       "      <td>1628948747</td>\n",
       "    </tr>\n",
       "    <tr>\n",
       "      <th>4</th>\n",
       "      <td>T1 basso</td>\n",
       "      <td>GRND_WATER_G</td>\n",
       "      <td>-20.0</td>\n",
       "      <td>25.0</td>\n",
       "      <td>-130.458021</td>\n",
       "      <td>cbar</td>\n",
       "      <td>1628657108</td>\n",
       "    </tr>\n",
       "    <tr>\n",
       "      <th>...</th>\n",
       "      <td>...</td>\n",
       "      <td>...</td>\n",
       "      <td>...</td>\n",
       "      <td>...</td>\n",
       "      <td>...</td>\n",
       "      <td>...</td>\n",
       "      <td>...</td>\n",
       "    </tr>\n",
       "    <tr>\n",
       "      <th>29059</th>\n",
       "      <td>T1 basso</td>\n",
       "      <td>GRND_WATER_G</td>\n",
       "      <td>-60.0</td>\n",
       "      <td>0.0</td>\n",
       "      <td>-74.186077</td>\n",
       "      <td>cbar</td>\n",
       "      <td>1627102804</td>\n",
       "    </tr>\n",
       "    <tr>\n",
       "      <th>29060</th>\n",
       "      <td>T1 basso</td>\n",
       "      <td>GRND_WATER_G</td>\n",
       "      <td>-60.0</td>\n",
       "      <td>25.0</td>\n",
       "      <td>-209.033680</td>\n",
       "      <td>cbar</td>\n",
       "      <td>1627101007</td>\n",
       "    </tr>\n",
       "    <tr>\n",
       "      <th>29061</th>\n",
       "      <td>T1 basso</td>\n",
       "      <td>GRND_WATER_G</td>\n",
       "      <td>-60.0</td>\n",
       "      <td>50.0</td>\n",
       "      <td>-352.458317</td>\n",
       "      <td>cbar</td>\n",
       "      <td>1627101905</td>\n",
       "    </tr>\n",
       "    <tr>\n",
       "      <th>29062</th>\n",
       "      <td>T1 basso</td>\n",
       "      <td>GRND_WATER_G</td>\n",
       "      <td>-60.0</td>\n",
       "      <td>50.0</td>\n",
       "      <td>-352.458317</td>\n",
       "      <td>cbar</td>\n",
       "      <td>1627101007</td>\n",
       "    </tr>\n",
       "    <tr>\n",
       "      <th>29063</th>\n",
       "      <td>T1 basso</td>\n",
       "      <td>GRND_WATER_G</td>\n",
       "      <td>-60.0</td>\n",
       "      <td>25.0</td>\n",
       "      <td>-208.705472</td>\n",
       "      <td>cbar</td>\n",
       "      <td>1627102804</td>\n",
       "    </tr>\n",
       "  </tbody>\n",
       "</table>\n",
       "<p>29064 rows × 7 columns</p>\n",
       "</div>"
      ],
      "text/plain": [
       "       plantRow detectedValueTypeId    yy    xx       value  unit   timestamp\n",
       "0      T1 basso        GRND_WATER_G -20.0  25.0  -21.616472  cbar  1628951453\n",
       "1      T1 basso        GRND_WATER_G -20.0  50.0 -113.354793  cbar  1628950550\n",
       "2      T1 basso        GRND_WATER_G -20.0   0.0  -21.041212  cbar  1628947848\n",
       "3      T1 basso        GRND_WATER_G -20.0   0.0  -21.328847  cbar  1628948747\n",
       "4      T1 basso        GRND_WATER_G -20.0  25.0 -130.458021  cbar  1628657108\n",
       "...         ...                 ...   ...   ...         ...   ...         ...\n",
       "29059  T1 basso        GRND_WATER_G -60.0   0.0  -74.186077  cbar  1627102804\n",
       "29060  T1 basso        GRND_WATER_G -60.0  25.0 -209.033680  cbar  1627101007\n",
       "29061  T1 basso        GRND_WATER_G -60.0  50.0 -352.458317  cbar  1627101905\n",
       "29062  T1 basso        GRND_WATER_G -60.0  50.0 -352.458317  cbar  1627101007\n",
       "29063  T1 basso        GRND_WATER_G -60.0  25.0 -208.705472  cbar  1627102804\n",
       "\n",
       "[29064 rows x 7 columns]"
      ]
     },
     "execution_count": 13,
     "metadata": {},
     "output_type": "execute_result"
    }
   ],
   "source": [
    "# What should we drop?\n",
    "# df = df.drop([\"plantRow\", \"unit\"], axis=1)\n",
    "df"
   ]
  },
  {
   "cell_type": "markdown",
   "id": "6ff9f1a6",
   "metadata": {
    "slideshow": {
     "slide_type": "subslide"
    }
   },
   "source": [
    "Drop the useless rows"
   ]
  },
  {
   "cell_type": "code",
   "execution_count": 14,
   "id": "17325843",
   "metadata": {},
   "outputs": [
    {
     "data": {
      "text/html": [
       "<div>\n",
       "<style scoped>\n",
       "    .dataframe tbody tr th:only-of-type {\n",
       "        vertical-align: middle;\n",
       "    }\n",
       "\n",
       "    .dataframe tbody tr th {\n",
       "        vertical-align: top;\n",
       "    }\n",
       "\n",
       "    .dataframe thead th {\n",
       "        text-align: right;\n",
       "    }\n",
       "</style>\n",
       "<table border=\"1\" class=\"dataframe\">\n",
       "  <thead>\n",
       "    <tr style=\"text-align: right;\">\n",
       "      <th></th>\n",
       "      <th>plantRow</th>\n",
       "      <th>yy</th>\n",
       "      <th>xx</th>\n",
       "      <th>value</th>\n",
       "      <th>unit</th>\n",
       "      <th>timestamp</th>\n",
       "    </tr>\n",
       "  </thead>\n",
       "  <tbody>\n",
       "    <tr>\n",
       "      <th>0</th>\n",
       "      <td>T1 basso</td>\n",
       "      <td>-20.0</td>\n",
       "      <td>25.0</td>\n",
       "      <td>-21.616472</td>\n",
       "      <td>cbar</td>\n",
       "      <td>1628951453</td>\n",
       "    </tr>\n",
       "    <tr>\n",
       "      <th>1</th>\n",
       "      <td>T1 basso</td>\n",
       "      <td>-20.0</td>\n",
       "      <td>50.0</td>\n",
       "      <td>-113.354793</td>\n",
       "      <td>cbar</td>\n",
       "      <td>1628950550</td>\n",
       "    </tr>\n",
       "    <tr>\n",
       "      <th>2</th>\n",
       "      <td>T1 basso</td>\n",
       "      <td>-20.0</td>\n",
       "      <td>0.0</td>\n",
       "      <td>-21.041212</td>\n",
       "      <td>cbar</td>\n",
       "      <td>1628947848</td>\n",
       "    </tr>\n",
       "    <tr>\n",
       "      <th>3</th>\n",
       "      <td>T1 basso</td>\n",
       "      <td>-20.0</td>\n",
       "      <td>0.0</td>\n",
       "      <td>-21.328847</td>\n",
       "      <td>cbar</td>\n",
       "      <td>1628948747</td>\n",
       "    </tr>\n",
       "    <tr>\n",
       "      <th>4</th>\n",
       "      <td>T1 basso</td>\n",
       "      <td>-20.0</td>\n",
       "      <td>25.0</td>\n",
       "      <td>-130.458021</td>\n",
       "      <td>cbar</td>\n",
       "      <td>1628657108</td>\n",
       "    </tr>\n",
       "    <tr>\n",
       "      <th>...</th>\n",
       "      <td>...</td>\n",
       "      <td>...</td>\n",
       "      <td>...</td>\n",
       "      <td>...</td>\n",
       "      <td>...</td>\n",
       "      <td>...</td>\n",
       "    </tr>\n",
       "    <tr>\n",
       "      <th>29059</th>\n",
       "      <td>T1 basso</td>\n",
       "      <td>-60.0</td>\n",
       "      <td>0.0</td>\n",
       "      <td>-74.186077</td>\n",
       "      <td>cbar</td>\n",
       "      <td>1627102804</td>\n",
       "    </tr>\n",
       "    <tr>\n",
       "      <th>29060</th>\n",
       "      <td>T1 basso</td>\n",
       "      <td>-60.0</td>\n",
       "      <td>25.0</td>\n",
       "      <td>-209.033680</td>\n",
       "      <td>cbar</td>\n",
       "      <td>1627101007</td>\n",
       "    </tr>\n",
       "    <tr>\n",
       "      <th>29061</th>\n",
       "      <td>T1 basso</td>\n",
       "      <td>-60.0</td>\n",
       "      <td>50.0</td>\n",
       "      <td>-352.458317</td>\n",
       "      <td>cbar</td>\n",
       "      <td>1627101905</td>\n",
       "    </tr>\n",
       "    <tr>\n",
       "      <th>29062</th>\n",
       "      <td>T1 basso</td>\n",
       "      <td>-60.0</td>\n",
       "      <td>50.0</td>\n",
       "      <td>-352.458317</td>\n",
       "      <td>cbar</td>\n",
       "      <td>1627101007</td>\n",
       "    </tr>\n",
       "    <tr>\n",
       "      <th>29063</th>\n",
       "      <td>T1 basso</td>\n",
       "      <td>-60.0</td>\n",
       "      <td>25.0</td>\n",
       "      <td>-208.705472</td>\n",
       "      <td>cbar</td>\n",
       "      <td>1627102804</td>\n",
       "    </tr>\n",
       "  </tbody>\n",
       "</table>\n",
       "<p>28512 rows × 6 columns</p>\n",
       "</div>"
      ],
      "text/plain": [
       "       plantRow    yy    xx       value  unit   timestamp\n",
       "0      T1 basso -20.0  25.0  -21.616472  cbar  1628951453\n",
       "1      T1 basso -20.0  50.0 -113.354793  cbar  1628950550\n",
       "2      T1 basso -20.0   0.0  -21.041212  cbar  1628947848\n",
       "3      T1 basso -20.0   0.0  -21.328847  cbar  1628948747\n",
       "4      T1 basso -20.0  25.0 -130.458021  cbar  1628657108\n",
       "...         ...   ...   ...         ...   ...         ...\n",
       "29059  T1 basso -60.0   0.0  -74.186077  cbar  1627102804\n",
       "29060  T1 basso -60.0  25.0 -209.033680  cbar  1627101007\n",
       "29061  T1 basso -60.0  50.0 -352.458317  cbar  1627101905\n",
       "29062  T1 basso -60.0  50.0 -352.458317  cbar  1627101007\n",
       "29063  T1 basso -60.0  25.0 -208.705472  cbar  1627102804\n",
       "\n",
       "[28512 rows x 6 columns]"
      ]
     },
     "execution_count": 14,
     "metadata": {},
     "output_type": "execute_result"
    }
   ],
   "source": [
    "df = df[df[\"detectedValueTypeId\"] == \"GRND_WATER_G\"]\n",
    "df = df.drop([\"detectedValueTypeId\"], axis=1)\n",
    "df"
   ]
  },
  {
   "cell_type": "markdown",
   "id": "8f3a2a27",
   "metadata": {
    "slideshow": {
     "slide_type": "skip"
    }
   },
   "source": [
    "Take a better look at the sensor data over time"
   ]
  },
  {
   "cell_type": "code",
   "execution_count": 15,
   "id": "e14700da",
   "metadata": {
    "slideshow": {
     "slide_type": "skip"
    }
   },
   "outputs": [],
   "source": [
    "def plot():\n",
    "    fig, ax = plt.subplots(figsize=(4,3))\n",
    "    for key, grp in df.sort_values(by=[\"timestamp\"]).groupby(['xx', 'yy']):\n",
    "        ax = grp.plot(ax=ax, kind='line', x='timestamp', y='value', label=key)\n",
    "\n",
    "    ax.set_xticklabels([pd.to_datetime(tm, unit='s').strftime('%Y-%m-%d %H:%M:%S') for tm in ax.get_xticks()], rotation = 45)"
   ]
  },
  {
   "cell_type": "code",
   "execution_count": 16,
   "id": "22743fe6",
   "metadata": {
    "slideshow": {
     "slide_type": "skip"
    }
   },
   "outputs": [
    {
     "name": "stderr",
     "output_type": "stream",
     "text": [
      "/tmp/ipykernel_20632/2868515422.py:6: UserWarning: FixedFormatter should only be used together with FixedLocator\n",
      "  ax.set_xticklabels([pd.to_datetime(tm, unit='s').strftime('%Y-%m-%d %H:%M:%S') for tm in ax.get_xticks()], rotation = 45)\n"
     ]
    },
    {
     "data": {
      "image/png": "[encoded data removed]",
      "text/plain": [
       "<Figure size 288x216 with 1 Axes>"
      ]
     },
     "metadata": {
      "needs_background": "light"
     },
     "output_type": "display_data"
    }
   ],
   "source": [
    "plot()"
   ]
  },
  {
   "cell_type": "markdown",
   "id": "eff6a8bb",
   "metadata": {
    "slideshow": {
     "slide_type": "subslide"
    }
   },
   "source": [
    "Snapshots of sensor data at different timestamps"
   ]
  },
  {
   "cell_type": "code",
   "execution_count": 17,
   "id": "8891ad49",
   "metadata": {
    "slideshow": {
     "slide_type": "skip"
    }
   },
   "outputs": [],
   "source": [
    "def plot():\n",
    "    fig, ax = plt.subplots(1, 3, figsize=(12, 3), sharey=True)\n",
    "    for i, timestamp in enumerate([1628950550, 1626309949, 1627101007]):\n",
    "        df[df[\"timestamp\"] == timestamp].plot.scatter(ax=ax[i], x='xx', y='yy', c='value', cmap='seismic_r', s=100, title=pd.to_datetime(timestamp, unit='s').strftime('%Y-%m-%d %H:%M:%S'))\n",
    "\n",
    "    fig.tight_layout()"
   ]
  },
  {
   "cell_type": "code",
   "execution_count": 18,
   "id": "1233bc97",
   "metadata": {},
   "outputs": [
    {
     "data": {
      "image/png": "[encoded data removed]",
      "text/plain": [
       "<Figure size 864x216 with 6 Axes>"
      ]
     },
     "metadata": {
      "needs_background": "light"
     },
     "output_type": "display_data"
    }
   ],
   "source": [
    "plot()"
   ]
  },
  {
   "cell_type": "markdown",
   "id": "0aaa64e6",
   "metadata": {
    "slideshow": {
     "slide_type": "subslide"
    }
   },
   "source": [
    "What if we bin our data hourly?"
   ]
  },
  {
   "cell_type": "code",
   "execution_count": 19,
   "id": "b9a93535",
   "metadata": {
    "slideshow": {
     "slide_type": "skip"
    }
   },
   "outputs": [],
   "source": [
    "def plot():\n",
    "    fig, ax = plt.subplots(1, 3, figsize=(12, 3), sharey=True)\n",
    "    for i, timestamp in enumerate([1628950550, 1626309949, 1627101007]):\n",
    "        df[df[\"timestamp\"].apply(lambda x: int(x / (60 * 60))) == int(timestamp / (60 * 60))].plot.scatter(ax=ax[i], x='xx', y='yy', c='value', cmap='seismic_r', s=100, title=pd.to_datetime(int(timestamp / (60 * 60)) * 60 * 60, unit='s').strftime('%Y-%m-%d %H:%M:%S'))\n",
    "\n",
    "    fig.tight_layout()"
   ]
  },
  {
   "cell_type": "code",
   "execution_count": 20,
   "id": "6fe77bb6",
   "metadata": {},
   "outputs": [
    {
     "data": {
      "image/png": "[encoded data removed]",
      "text/plain": [
       "<Figure size 864x216 with 6 Axes>"
      ]
     },
     "metadata": {
      "needs_background": "light"
     },
     "output_type": "display_data"
    }
   ],
   "source": [
    "plot()"
   ]
  },
  {
   "cell_type": "markdown",
   "id": "a5551952",
   "metadata": {
    "slideshow": {
     "slide_type": "subslide"
    }
   },
   "source": [
    "Data preparation\n",
    "- Bin data hourly, average the soil moisture for each sensor \n",
    "- Create derived attributes (e.g., time/sensor hierarchy) useful for posterior analysis"
   ]
  },
  {
   "cell_type": "code",
   "execution_count": 21,
   "id": "e7162d3e",
   "metadata": {
    "scrolled": true,
    "slideshow": {
     "slide_type": "skip"
    }
   },
   "outputs": [],
   "source": [
    "df[\"timestamp\"] = df[\"timestamp\"].apply(lambda x: int(x / 3600) * 3600)  # bin the time by hours\n",
    "df1 = df.groupby([\"plantRow\", \"timestamp\", \"xx\", \"yy\"])[\"value\"].mean().reset_index()  # compute the average humidity\n",
    "df1[\"hour\"] = [pd.to_datetime(tm, unit='s').strftime('%Y-%m-%d %H') for tm in df1[\"timestamp\"]]  # format the hour\n",
    "df1[\"date\"] = [pd.to_datetime(tm, unit='s').strftime('%Y-%m-%d') for tm in df1[\"timestamp\"]]  # format the date\n",
    "df1[\"month\"] = [pd.to_datetime(tm, unit='s').strftime('%Y-%m') for tm in df1[\"timestamp\"]]  # format the month\n",
    "df1[\"year\"] = [pd.to_datetime(tm, unit='s').strftime('%Y') for tm in df1[\"timestamp\"]]  # format the year\n",
    "df1[\"timestamp\"] = [pd.to_datetime(tm, unit='s').strftime('%Y-%m-%d %H:%M:%S') for tm in df1[\"timestamp\"]]  # format the timestamp\n",
    "\n",
    "df2 = df1.copy(deep=True)\n",
    "df2[\"sensor\"] = df2.apply(lambda x: \"(\" + str(x[\"xx\"]) + \", \" + str(x[\"yy\"]) + \")\", axis=1)\n",
    "df2 = df2.rename({\"xx\": \"dist\", \"yy\": \"depth\", \"plantRow\": \"plant\"}, axis=1)"
   ]
  },
  {
   "cell_type": "code",
   "execution_count": 22,
   "id": "26dbd46a",
   "metadata": {
    "slideshow": {
     "slide_type": "skip"
    }
   },
   "outputs": [
    {
     "data": {
      "text/html": [
       "<div>\n",
       "<style scoped>\n",
       "    .dataframe tbody tr th:only-of-type {\n",
       "        vertical-align: middle;\n",
       "    }\n",
       "\n",
       "    .dataframe tbody tr th {\n",
       "        vertical-align: top;\n",
       "    }\n",
       "\n",
       "    .dataframe thead th {\n",
       "        text-align: right;\n",
       "    }\n",
       "</style>\n",
       "<table border=\"1\" class=\"dataframe\">\n",
       "  <thead>\n",
       "    <tr style=\"text-align: right;\">\n",
       "      <th></th>\n",
       "      <th>plantRow</th>\n",
       "      <th>timestamp</th>\n",
       "      <th>xx</th>\n",
       "      <th>yy</th>\n",
       "      <th>value</th>\n",
       "      <th>hour</th>\n",
       "      <th>date</th>\n",
       "      <th>month</th>\n",
       "      <th>year</th>\n",
       "    </tr>\n",
       "  </thead>\n",
       "  <tbody>\n",
       "    <tr>\n",
       "      <th>0</th>\n",
       "      <td>T1 basso</td>\n",
       "      <td>2021-07-15 00:00:00</td>\n",
       "      <td>0.0</td>\n",
       "      <td>-60.0</td>\n",
       "      <td>-27.366967</td>\n",
       "      <td>2021-07-15 00</td>\n",
       "      <td>2021-07-15</td>\n",
       "      <td>2021-07</td>\n",
       "      <td>2021</td>\n",
       "    </tr>\n",
       "    <tr>\n",
       "      <th>1</th>\n",
       "      <td>T1 basso</td>\n",
       "      <td>2021-07-15 00:00:00</td>\n",
       "      <td>0.0</td>\n",
       "      <td>-40.0</td>\n",
       "      <td>-21.041212</td>\n",
       "      <td>2021-07-15 00</td>\n",
       "      <td>2021-07-15</td>\n",
       "      <td>2021-07</td>\n",
       "      <td>2021</td>\n",
       "    </tr>\n",
       "    <tr>\n",
       "      <th>2</th>\n",
       "      <td>T1 basso</td>\n",
       "      <td>2021-07-15 00:00:00</td>\n",
       "      <td>0.0</td>\n",
       "      <td>-20.0</td>\n",
       "      <td>-21.041212</td>\n",
       "      <td>2021-07-15 00</td>\n",
       "      <td>2021-07-15</td>\n",
       "      <td>2021-07</td>\n",
       "      <td>2021</td>\n",
       "    </tr>\n",
       "    <tr>\n",
       "      <th>3</th>\n",
       "      <td>T1 basso</td>\n",
       "      <td>2021-07-15 00:00:00</td>\n",
       "      <td>25.0</td>\n",
       "      <td>-60.0</td>\n",
       "      <td>-193.593787</td>\n",
       "      <td>2021-07-15 00</td>\n",
       "      <td>2021-07-15</td>\n",
       "      <td>2021-07</td>\n",
       "      <td>2021</td>\n",
       "    </tr>\n",
       "    <tr>\n",
       "      <th>4</th>\n",
       "      <td>T1 basso</td>\n",
       "      <td>2021-07-15 00:00:00</td>\n",
       "      <td>25.0</td>\n",
       "      <td>-40.0</td>\n",
       "      <td>-23.102383</td>\n",
       "      <td>2021-07-15 00</td>\n",
       "      <td>2021-07-15</td>\n",
       "      <td>2021-07</td>\n",
       "      <td>2021</td>\n",
       "    </tr>\n",
       "    <tr>\n",
       "      <th>...</th>\n",
       "      <td>...</td>\n",
       "      <td>...</td>\n",
       "      <td>...</td>\n",
       "      <td>...</td>\n",
       "      <td>...</td>\n",
       "      <td>...</td>\n",
       "      <td>...</td>\n",
       "      <td>...</td>\n",
       "      <td>...</td>\n",
       "    </tr>\n",
       "    <tr>\n",
       "      <th>8751</th>\n",
       "      <td>T1 basso</td>\n",
       "      <td>2021-08-14 23:00:00</td>\n",
       "      <td>50.0</td>\n",
       "      <td>-40.0</td>\n",
       "      <td>-840.353649</td>\n",
       "      <td>2021-08-14 23</td>\n",
       "      <td>2021-08-14</td>\n",
       "      <td>2021-08</td>\n",
       "      <td>2021</td>\n",
       "    </tr>\n",
       "    <tr>\n",
       "      <th>8752</th>\n",
       "      <td>T1 basso</td>\n",
       "      <td>2021-08-14 23:00:00</td>\n",
       "      <td>50.0</td>\n",
       "      <td>-20.0</td>\n",
       "      <td>-129.913714</td>\n",
       "      <td>2021-08-14 23</td>\n",
       "      <td>2021-08-14</td>\n",
       "      <td>2021-08</td>\n",
       "      <td>2021</td>\n",
       "    </tr>\n",
       "    <tr>\n",
       "      <th>8753</th>\n",
       "      <td>T1 basso</td>\n",
       "      <td>2021-08-14 23:00:00</td>\n",
       "      <td>80.0</td>\n",
       "      <td>-60.0</td>\n",
       "      <td>-462.190096</td>\n",
       "      <td>2021-08-14 23</td>\n",
       "      <td>2021-08-14</td>\n",
       "      <td>2021-08</td>\n",
       "      <td>2021</td>\n",
       "    </tr>\n",
       "    <tr>\n",
       "      <th>8754</th>\n",
       "      <td>T1 basso</td>\n",
       "      <td>2021-08-14 23:00:00</td>\n",
       "      <td>80.0</td>\n",
       "      <td>-40.0</td>\n",
       "      <td>-791.964873</td>\n",
       "      <td>2021-08-14 23</td>\n",
       "      <td>2021-08-14</td>\n",
       "      <td>2021-08</td>\n",
       "      <td>2021</td>\n",
       "    </tr>\n",
       "    <tr>\n",
       "      <th>8755</th>\n",
       "      <td>T1 basso</td>\n",
       "      <td>2021-08-14 23:00:00</td>\n",
       "      <td>80.0</td>\n",
       "      <td>-20.0</td>\n",
       "      <td>-965.569411</td>\n",
       "      <td>2021-08-14 23</td>\n",
       "      <td>2021-08-14</td>\n",
       "      <td>2021-08</td>\n",
       "      <td>2021</td>\n",
       "    </tr>\n",
       "  </tbody>\n",
       "</table>\n",
       "<p>8756 rows × 9 columns</p>\n",
       "</div>"
      ],
      "text/plain": [
       "      plantRow            timestamp    xx    yy       value           hour  \\\n",
       "0     T1 basso  2021-07-15 00:00:00   0.0 -60.0  -27.366967  2021-07-15 00   \n",
       "1     T1 basso  2021-07-15 00:00:00   0.0 -40.0  -21.041212  2021-07-15 00   \n",
       "2     T1 basso  2021-07-15 00:00:00   0.0 -20.0  -21.041212  2021-07-15 00   \n",
       "3     T1 basso  2021-07-15 00:00:00  25.0 -60.0 -193.593787  2021-07-15 00   \n",
       "4     T1 basso  2021-07-15 00:00:00  25.0 -40.0  -23.102383  2021-07-15 00   \n",
       "...        ...                  ...   ...   ...         ...            ...   \n",
       "8751  T1 basso  2021-08-14 23:00:00  50.0 -40.0 -840.353649  2021-08-14 23   \n",
       "8752  T1 basso  2021-08-14 23:00:00  50.0 -20.0 -129.913714  2021-08-14 23   \n",
       "8753  T1 basso  2021-08-14 23:00:00  80.0 -60.0 -462.190096  2021-08-14 23   \n",
       "8754  T1 basso  2021-08-14 23:00:00  80.0 -40.0 -791.964873  2021-08-14 23   \n",
       "8755  T1 basso  2021-08-14 23:00:00  80.0 -20.0 -965.569411  2021-08-14 23   \n",
       "\n",
       "            date    month  year  \n",
       "0     2021-07-15  2021-07  2021  \n",
       "1     2021-07-15  2021-07  2021  \n",
       "2     2021-07-15  2021-07  2021  \n",
       "3     2021-07-15  2021-07  2021  \n",
       "4     2021-07-15  2021-07  2021  \n",
       "...          ...      ...   ...  \n",
       "8751  2021-08-14  2021-08  2021  \n",
       "8752  2021-08-14  2021-08  2021  \n",
       "8753  2021-08-14  2021-08  2021  \n",
       "8754  2021-08-14  2021-08  2021  \n",
       "8755  2021-08-14  2021-08  2021  \n",
       "\n",
       "[8756 rows x 9 columns]"
      ]
     },
     "execution_count": 22,
     "metadata": {},
     "output_type": "execute_result"
    }
   ],
   "source": [
    "df1"
   ]
  },
  {
   "cell_type": "code",
   "execution_count": 23,
   "id": "d54338cc",
   "metadata": {
    "slideshow": {
     "slide_type": "subslide"
    }
   },
   "outputs": [
    {
     "data": {
      "text/html": [
       "<div>\n",
       "<style scoped>\n",
       "    .dataframe tbody tr th:only-of-type {\n",
       "        vertical-align: middle;\n",
       "    }\n",
       "\n",
       "    .dataframe tbody tr th {\n",
       "        vertical-align: top;\n",
       "    }\n",
       "\n",
       "    .dataframe thead th {\n",
       "        text-align: right;\n",
       "    }\n",
       "</style>\n",
       "<table border=\"1\" class=\"dataframe\">\n",
       "  <thead>\n",
       "    <tr style=\"text-align: right;\">\n",
       "      <th></th>\n",
       "      <th>plant</th>\n",
       "      <th>timestamp</th>\n",
       "      <th>dist</th>\n",
       "      <th>depth</th>\n",
       "      <th>value</th>\n",
       "      <th>hour</th>\n",
       "      <th>date</th>\n",
       "      <th>month</th>\n",
       "      <th>year</th>\n",
       "      <th>sensor</th>\n",
       "    </tr>\n",
       "  </thead>\n",
       "  <tbody>\n",
       "    <tr>\n",
       "      <th>0</th>\n",
       "      <td>T1 basso</td>\n",
       "      <td>2021-07-15 00:00:00</td>\n",
       "      <td>0.0</td>\n",
       "      <td>-60.0</td>\n",
       "      <td>-27.366967</td>\n",
       "      <td>2021-07-15 00</td>\n",
       "      <td>2021-07-15</td>\n",
       "      <td>2021-07</td>\n",
       "      <td>2021</td>\n",
       "      <td>(0.0, -60.0)</td>\n",
       "    </tr>\n",
       "    <tr>\n",
       "      <th>1</th>\n",
       "      <td>T1 basso</td>\n",
       "      <td>2021-07-15 00:00:00</td>\n",
       "      <td>0.0</td>\n",
       "      <td>-40.0</td>\n",
       "      <td>-21.041212</td>\n",
       "      <td>2021-07-15 00</td>\n",
       "      <td>2021-07-15</td>\n",
       "      <td>2021-07</td>\n",
       "      <td>2021</td>\n",
       "      <td>(0.0, -40.0)</td>\n",
       "    </tr>\n",
       "    <tr>\n",
       "      <th>2</th>\n",
       "      <td>T1 basso</td>\n",
       "      <td>2021-07-15 00:00:00</td>\n",
       "      <td>0.0</td>\n",
       "      <td>-20.0</td>\n",
       "      <td>-21.041212</td>\n",
       "      <td>2021-07-15 00</td>\n",
       "      <td>2021-07-15</td>\n",
       "      <td>2021-07</td>\n",
       "      <td>2021</td>\n",
       "      <td>(0.0, -20.0)</td>\n",
       "    </tr>\n",
       "    <tr>\n",
       "      <th>3</th>\n",
       "      <td>T1 basso</td>\n",
       "      <td>2021-07-15 00:00:00</td>\n",
       "      <td>25.0</td>\n",
       "      <td>-60.0</td>\n",
       "      <td>-193.593787</td>\n",
       "      <td>2021-07-15 00</td>\n",
       "      <td>2021-07-15</td>\n",
       "      <td>2021-07</td>\n",
       "      <td>2021</td>\n",
       "      <td>(25.0, -60.0)</td>\n",
       "    </tr>\n",
       "    <tr>\n",
       "      <th>4</th>\n",
       "      <td>T1 basso</td>\n",
       "      <td>2021-07-15 00:00:00</td>\n",
       "      <td>25.0</td>\n",
       "      <td>-40.0</td>\n",
       "      <td>-23.102383</td>\n",
       "      <td>2021-07-15 00</td>\n",
       "      <td>2021-07-15</td>\n",
       "      <td>2021-07</td>\n",
       "      <td>2021</td>\n",
       "      <td>(25.0, -40.0)</td>\n",
       "    </tr>\n",
       "    <tr>\n",
       "      <th>...</th>\n",
       "      <td>...</td>\n",
       "      <td>...</td>\n",
       "      <td>...</td>\n",
       "      <td>...</td>\n",
       "      <td>...</td>\n",
       "      <td>...</td>\n",
       "      <td>...</td>\n",
       "      <td>...</td>\n",
       "      <td>...</td>\n",
       "      <td>...</td>\n",
       "    </tr>\n",
       "    <tr>\n",
       "      <th>8751</th>\n",
       "      <td>T1 basso</td>\n",
       "      <td>2021-08-14 23:00:00</td>\n",
       "      <td>50.0</td>\n",
       "      <td>-40.0</td>\n",
       "      <td>-840.353649</td>\n",
       "      <td>2021-08-14 23</td>\n",
       "      <td>2021-08-14</td>\n",
       "      <td>2021-08</td>\n",
       "      <td>2021</td>\n",
       "      <td>(50.0, -40.0)</td>\n",
       "    </tr>\n",
       "    <tr>\n",
       "      <th>8752</th>\n",
       "      <td>T1 basso</td>\n",
       "      <td>2021-08-14 23:00:00</td>\n",
       "      <td>50.0</td>\n",
       "      <td>-20.0</td>\n",
       "      <td>-129.913714</td>\n",
       "      <td>2021-08-14 23</td>\n",
       "      <td>2021-08-14</td>\n",
       "      <td>2021-08</td>\n",
       "      <td>2021</td>\n",
       "      <td>(50.0, -20.0)</td>\n",
       "    </tr>\n",
       "    <tr>\n",
       "      <th>8753</th>\n",
       "      <td>T1 basso</td>\n",
       "      <td>2021-08-14 23:00:00</td>\n",
       "      <td>80.0</td>\n",
       "      <td>-60.0</td>\n",
       "      <td>-462.190096</td>\n",
       "      <td>2021-08-14 23</td>\n",
       "      <td>2021-08-14</td>\n",
       "      <td>2021-08</td>\n",
       "      <td>2021</td>\n",
       "      <td>(80.0, -60.0)</td>\n",
       "    </tr>\n",
       "    <tr>\n",
       "      <th>8754</th>\n",
       "      <td>T1 basso</td>\n",
       "      <td>2021-08-14 23:00:00</td>\n",
       "      <td>80.0</td>\n",
       "      <td>-40.0</td>\n",
       "      <td>-791.964873</td>\n",
       "      <td>2021-08-14 23</td>\n",
       "      <td>2021-08-14</td>\n",
       "      <td>2021-08</td>\n",
       "      <td>2021</td>\n",
       "      <td>(80.0, -40.0)</td>\n",
       "    </tr>\n",
       "    <tr>\n",
       "      <th>8755</th>\n",
       "      <td>T1 basso</td>\n",
       "      <td>2021-08-14 23:00:00</td>\n",
       "      <td>80.0</td>\n",
       "      <td>-20.0</td>\n",
       "      <td>-965.569411</td>\n",
       "      <td>2021-08-14 23</td>\n",
       "      <td>2021-08-14</td>\n",
       "      <td>2021-08</td>\n",
       "      <td>2021</td>\n",
       "      <td>(80.0, -20.0)</td>\n",
       "    </tr>\n",
       "  </tbody>\n",
       "</table>\n",
       "<p>8756 rows × 10 columns</p>\n",
       "</div>"
      ],
      "text/plain": [
       "         plant            timestamp  dist  depth       value           hour  \\\n",
       "0     T1 basso  2021-07-15 00:00:00   0.0  -60.0  -27.366967  2021-07-15 00   \n",
       "1     T1 basso  2021-07-15 00:00:00   0.0  -40.0  -21.041212  2021-07-15 00   \n",
       "2     T1 basso  2021-07-15 00:00:00   0.0  -20.0  -21.041212  2021-07-15 00   \n",
       "3     T1 basso  2021-07-15 00:00:00  25.0  -60.0 -193.593787  2021-07-15 00   \n",
       "4     T1 basso  2021-07-15 00:00:00  25.0  -40.0  -23.102383  2021-07-15 00   \n",
       "...        ...                  ...   ...    ...         ...            ...   \n",
       "8751  T1 basso  2021-08-14 23:00:00  50.0  -40.0 -840.353649  2021-08-14 23   \n",
       "8752  T1 basso  2021-08-14 23:00:00  50.0  -20.0 -129.913714  2021-08-14 23   \n",
       "8753  T1 basso  2021-08-14 23:00:00  80.0  -60.0 -462.190096  2021-08-14 23   \n",
       "8754  T1 basso  2021-08-14 23:00:00  80.0  -40.0 -791.964873  2021-08-14 23   \n",
       "8755  T1 basso  2021-08-14 23:00:00  80.0  -20.0 -965.569411  2021-08-14 23   \n",
       "\n",
       "            date    month  year         sensor  \n",
       "0     2021-07-15  2021-07  2021   (0.0, -60.0)  \n",
       "1     2021-07-15  2021-07  2021   (0.0, -40.0)  \n",
       "2     2021-07-15  2021-07  2021   (0.0, -20.0)  \n",
       "3     2021-07-15  2021-07  2021  (25.0, -60.0)  \n",
       "4     2021-07-15  2021-07  2021  (25.0, -40.0)  \n",
       "...          ...      ...   ...            ...  \n",
       "8751  2021-08-14  2021-08  2021  (50.0, -40.0)  \n",
       "8752  2021-08-14  2021-08  2021  (50.0, -20.0)  \n",
       "8753  2021-08-14  2021-08  2021  (80.0, -60.0)  \n",
       "8754  2021-08-14  2021-08  2021  (80.0, -40.0)  \n",
       "8755  2021-08-14  2021-08  2021  (80.0, -20.0)  \n",
       "\n",
       "[8756 rows x 10 columns]"
      ]
     },
     "execution_count": 23,
     "metadata": {},
     "output_type": "execute_result"
    }
   ],
   "source": [
    "df2"
   ]
  },
  {
   "cell_type": "markdown",
   "id": "8156650b",
   "metadata": {
    "slideshow": {
     "slide_type": "subslide"
    }
   },
   "source": [
    "Finally, save the data back to S3."
   ]
  },
  {
   "cell_type": "code",
   "execution_count": 24,
   "id": "830e03b9",
   "metadata": {
    "slideshow": {
     "slide_type": "skip"
    }
   },
   "outputs": [],
   "source": [
    "# wr.s3.to_csv(df=df1, path=output_bucket + \"cleaned-v1-\" + file_name, index=False)"
   ]
  },
  {
   "cell_type": "code",
   "execution_count": 25,
   "id": "ba51608f",
   "metadata": {},
   "outputs": [
    {
     "data": {
      "text/plain": [
       "{'paths': ['s3://staging-clean-wateringsensors-123/cleaned-v2-watering-data-1661269649253.csv'],\n",
       " 'partitions_values': {}}"
      ]
     },
     "execution_count": 25,
     "metadata": {},
     "output_type": "execute_result"
    }
   ],
   "source": [
    "wr.s3.to_csv(df=df2, path=output_bucket + \"cleaned-v2-\" + file_name, index=False)"
   ]
  },
  {
   "cell_type": "code",
   "execution_count": 26,
   "id": "e031b8bb",
   "metadata": {
    "slideshow": {
     "slide_type": "skip"
    }
   },
   "outputs": [
    {
     "data": {
      "text/html": [
       "<div>\n",
       "<style scoped>\n",
       "    .dataframe tbody tr th:only-of-type {\n",
       "        vertical-align: middle;\n",
       "    }\n",
       "\n",
       "    .dataframe tbody tr th {\n",
       "        vertical-align: top;\n",
       "    }\n",
       "\n",
       "    .dataframe thead th {\n",
       "        text-align: right;\n",
       "    }\n",
       "</style>\n",
       "<table border=\"1\" class=\"dataframe\">\n",
       "  <thead>\n",
       "    <tr style=\"text-align: right;\">\n",
       "      <th></th>\n",
       "      <th>Database</th>\n",
       "      <th>Description</th>\n",
       "    </tr>\n",
       "  </thead>\n",
       "  <tbody>\n",
       "  </tbody>\n",
       "</table>\n",
       "</div>"
      ],
      "text/plain": [
       "Empty DataFrame\n",
       "Columns: [Database, Description]\n",
       "Index: []"
      ]
     },
     "execution_count": 26,
     "metadata": {},
     "output_type": "execute_result"
    }
   ],
   "source": [
    "databases = wr.catalog.databases()\n",
    "databases"
   ]
  },
  {
   "cell_type": "code",
   "execution_count": 27,
   "id": "1dcb84de",
   "metadata": {
    "slideshow": {
     "slide_type": "skip"
    }
   },
   "outputs": [
    {
     "data": {
      "text/html": [
       "<div>\n",
       "<style scoped>\n",
       "    .dataframe tbody tr th:only-of-type {\n",
       "        vertical-align: middle;\n",
       "    }\n",
       "\n",
       "    .dataframe tbody tr th {\n",
       "        vertical-align: top;\n",
       "    }\n",
       "\n",
       "    .dataframe thead th {\n",
       "        text-align: right;\n",
       "    }\n",
       "</style>\n",
       "<table border=\"1\" class=\"dataframe\">\n",
       "  <thead>\n",
       "    <tr style=\"text-align: right;\">\n",
       "      <th></th>\n",
       "      <th>Database</th>\n",
       "      <th>Table</th>\n",
       "      <th>Description</th>\n",
       "      <th>TableType</th>\n",
       "      <th>Columns</th>\n",
       "      <th>Partitions</th>\n",
       "    </tr>\n",
       "  </thead>\n",
       "  <tbody>\n",
       "  </tbody>\n",
       "</table>\n",
       "</div>"
      ],
      "text/plain": [
       "Empty DataFrame\n",
       "Columns: [Database, Table, Description, TableType, Columns, Partitions]\n",
       "Index: []"
      ]
     },
     "execution_count": 27,
     "metadata": {},
     "output_type": "execute_result"
    }
   ],
   "source": [
    "df_tables = wr.catalog.tables()\n",
    "df_tables"
   ]
  },
  {
   "cell_type": "code",
   "execution_count": 28,
   "id": "7eabf9ef",
   "metadata": {
    "slideshow": {
     "slide_type": "skip"
    }
   },
   "outputs": [
    {
     "data": {
      "text/html": [
       "<div>\n",
       "<style scoped>\n",
       "    .dataframe tbody tr th:only-of-type {\n",
       "        vertical-align: middle;\n",
       "    }\n",
       "\n",
       "    .dataframe tbody tr th {\n",
       "        vertical-align: top;\n",
       "    }\n",
       "\n",
       "    .dataframe thead th {\n",
       "        text-align: right;\n",
       "    }\n",
       "</style>\n",
       "<table border=\"1\" class=\"dataframe\">\n",
       "  <thead>\n",
       "    <tr style=\"text-align: right;\">\n",
       "      <th></th>\n",
       "      <th>timestamp</th>\n",
       "      <th>(0.0, -20.0)</th>\n",
       "      <th>(0.0, -40.0)</th>\n",
       "      <th>(0.0, -60.0)</th>\n",
       "      <th>(25.0, -20.0)</th>\n",
       "      <th>(25.0, -40.0)</th>\n",
       "      <th>(25.0, -60.0)</th>\n",
       "      <th>(50.0, -20.0)</th>\n",
       "      <th>(50.0, -40.0)</th>\n",
       "      <th>(50.0, -60.0)</th>\n",
       "      <th>(80.0, -20.0)</th>\n",
       "      <th>(80.0, -40.0)</th>\n",
       "      <th>(80.0, -60.0)</th>\n",
       "    </tr>\n",
       "  </thead>\n",
       "  <tbody>\n",
       "    <tr>\n",
       "      <th>0</th>\n",
       "      <td>2021-07-15 00:00:00</td>\n",
       "      <td>-21.041212</td>\n",
       "      <td>-21.041212</td>\n",
       "      <td>-27.366967</td>\n",
       "      <td>-21.616472</td>\n",
       "      <td>-23.102383</td>\n",
       "      <td>-193.593787</td>\n",
       "      <td>-52.528144</td>\n",
       "      <td>-24.204667</td>\n",
       "      <td>-304.915914</td>\n",
       "      <td>-68.562192</td>\n",
       "      <td>-22.095825</td>\n",
       "      <td>-96.347607</td>\n",
       "    </tr>\n",
       "    <tr>\n",
       "      <th>1</th>\n",
       "      <td>2021-07-15 01:00:00</td>\n",
       "      <td>-21.041212</td>\n",
       "      <td>-21.041212</td>\n",
       "      <td>-27.534631</td>\n",
       "      <td>-21.760280</td>\n",
       "      <td>-23.102383</td>\n",
       "      <td>-192.983111</td>\n",
       "      <td>-52.026595</td>\n",
       "      <td>-24.412328</td>\n",
       "      <td>-304.637871</td>\n",
       "      <td>-68.562192</td>\n",
       "      <td>-21.904088</td>\n",
       "      <td>-95.634768</td>\n",
       "    </tr>\n",
       "    <tr>\n",
       "      <th>2</th>\n",
       "      <td>2021-07-15 02:00:00</td>\n",
       "      <td>-21.041212</td>\n",
       "      <td>-21.041212</td>\n",
       "      <td>-27.702294</td>\n",
       "      <td>-22.047891</td>\n",
       "      <td>-23.102383</td>\n",
       "      <td>-192.125734</td>\n",
       "      <td>-51.692214</td>\n",
       "      <td>-24.635959</td>\n",
       "      <td>-303.989075</td>\n",
       "      <td>-68.562192</td>\n",
       "      <td>-21.904088</td>\n",
       "      <td>-95.028808</td>\n",
       "    </tr>\n",
       "    <tr>\n",
       "      <th>3</th>\n",
       "      <td>2021-07-15 03:00:00</td>\n",
       "      <td>-21.041212</td>\n",
       "      <td>-21.041212</td>\n",
       "      <td>-27.702294</td>\n",
       "      <td>-21.904088</td>\n",
       "      <td>-23.102383</td>\n",
       "      <td>-191.636330</td>\n",
       "      <td>-51.190619</td>\n",
       "      <td>-24.635959</td>\n",
       "      <td>-303.649208</td>\n",
       "      <td>-68.228455</td>\n",
       "      <td>-21.904088</td>\n",
       "      <td>-94.616890</td>\n",
       "    </tr>\n",
       "    <tr>\n",
       "      <th>4</th>\n",
       "      <td>2021-07-15 04:00:00</td>\n",
       "      <td>-21.041212</td>\n",
       "      <td>-21.041212</td>\n",
       "      <td>-27.989708</td>\n",
       "      <td>-21.616472</td>\n",
       "      <td>-23.102383</td>\n",
       "      <td>-190.739660</td>\n",
       "      <td>-50.903980</td>\n",
       "      <td>-24.923474</td>\n",
       "      <td>-303.154831</td>\n",
       "      <td>-68.228455</td>\n",
       "      <td>-21.904088</td>\n",
       "      <td>-93.876178</td>\n",
       "    </tr>\n",
       "    <tr>\n",
       "      <th>...</th>\n",
       "      <td>...</td>\n",
       "      <td>...</td>\n",
       "      <td>...</td>\n",
       "      <td>...</td>\n",
       "      <td>...</td>\n",
       "      <td>...</td>\n",
       "      <td>...</td>\n",
       "      <td>...</td>\n",
       "      <td>...</td>\n",
       "      <td>...</td>\n",
       "      <td>...</td>\n",
       "      <td>...</td>\n",
       "      <td>...</td>\n",
       "    </tr>\n",
       "    <tr>\n",
       "      <th>739</th>\n",
       "      <td>2021-08-14 19:00:00</td>\n",
       "      <td>-20.753568</td>\n",
       "      <td>-22.191694</td>\n",
       "      <td>-256.039903</td>\n",
       "      <td>-21.041212</td>\n",
       "      <td>-23.725431</td>\n",
       "      <td>-306.917177</td>\n",
       "      <td>-125.565894</td>\n",
       "      <td>-850.129532</td>\n",
       "      <td>-695.245247</td>\n",
       "      <td>-981.683056</td>\n",
       "      <td>-800.636272</td>\n",
       "      <td>-470.650216</td>\n",
       "    </tr>\n",
       "    <tr>\n",
       "      <th>740</th>\n",
       "      <td>2021-08-14 20:00:00</td>\n",
       "      <td>-20.753568</td>\n",
       "      <td>-21.975989</td>\n",
       "      <td>-232.675216</td>\n",
       "      <td>-21.041212</td>\n",
       "      <td>-23.557690</td>\n",
       "      <td>-285.590873</td>\n",
       "      <td>-126.599786</td>\n",
       "      <td>-849.870933</td>\n",
       "      <td>-693.901787</td>\n",
       "      <td>-977.351484</td>\n",
       "      <td>-799.489618</td>\n",
       "      <td>-467.938392</td>\n",
       "    </tr>\n",
       "    <tr>\n",
       "      <th>741</th>\n",
       "      <td>2021-08-14 21:00:00</td>\n",
       "      <td>-20.753568</td>\n",
       "      <td>-21.904088</td>\n",
       "      <td>-214.867884</td>\n",
       "      <td>-21.041212</td>\n",
       "      <td>-23.389949</td>\n",
       "      <td>-268.375038</td>\n",
       "      <td>-127.830821</td>\n",
       "      <td>-847.995784</td>\n",
       "      <td>-692.062365</td>\n",
       "      <td>-973.500444</td>\n",
       "      <td>-797.590173</td>\n",
       "      <td>-465.339106</td>\n",
       "    </tr>\n",
       "    <tr>\n",
       "      <th>742</th>\n",
       "      <td>2021-08-14 22:00:00</td>\n",
       "      <td>-20.753568</td>\n",
       "      <td>-21.904088</td>\n",
       "      <td>-201.340064</td>\n",
       "      <td>-21.041212</td>\n",
       "      <td>-23.389949</td>\n",
       "      <td>-254.095873</td>\n",
       "      <td>-129.053794</td>\n",
       "      <td>-845.106682</td>\n",
       "      <td>-690.134413</td>\n",
       "      <td>-968.902449</td>\n",
       "      <td>-795.092987</td>\n",
       "      <td>-463.250007</td>\n",
       "    </tr>\n",
       "    <tr>\n",
       "      <th>743</th>\n",
       "      <td>2021-08-14 23:00:00</td>\n",
       "      <td>-20.753568</td>\n",
       "      <td>-21.904088</td>\n",
       "      <td>-191.166170</td>\n",
       "      <td>-21.041212</td>\n",
       "      <td>-23.389949</td>\n",
       "      <td>-243.344935</td>\n",
       "      <td>-129.913714</td>\n",
       "      <td>-840.353649</td>\n",
       "      <td>-688.580633</td>\n",
       "      <td>-965.569411</td>\n",
       "      <td>-791.964873</td>\n",
       "      <td>-462.190096</td>\n",
       "    </tr>\n",
       "  </tbody>\n",
       "</table>\n",
       "<p>744 rows × 13 columns</p>\n",
       "</div>"
      ],
      "text/plain": [
       "               timestamp  (0.0, -20.0)  (0.0, -40.0)  (0.0, -60.0)  \\\n",
       "0    2021-07-15 00:00:00    -21.041212    -21.041212    -27.366967   \n",
       "1    2021-07-15 01:00:00    -21.041212    -21.041212    -27.534631   \n",
       "2    2021-07-15 02:00:00    -21.041212    -21.041212    -27.702294   \n",
       "3    2021-07-15 03:00:00    -21.041212    -21.041212    -27.702294   \n",
       "4    2021-07-15 04:00:00    -21.041212    -21.041212    -27.989708   \n",
       "..                   ...           ...           ...           ...   \n",
       "739  2021-08-14 19:00:00    -20.753568    -22.191694   -256.039903   \n",
       "740  2021-08-14 20:00:00    -20.753568    -21.975989   -232.675216   \n",
       "741  2021-08-14 21:00:00    -20.753568    -21.904088   -214.867884   \n",
       "742  2021-08-14 22:00:00    -20.753568    -21.904088   -201.340064   \n",
       "743  2021-08-14 23:00:00    -20.753568    -21.904088   -191.166170   \n",
       "\n",
       "     (25.0, -20.0)  (25.0, -40.0)  (25.0, -60.0)  (50.0, -20.0)  \\\n",
       "0       -21.616472     -23.102383    -193.593787     -52.528144   \n",
       "1       -21.760280     -23.102383    -192.983111     -52.026595   \n",
       "2       -22.047891     -23.102383    -192.125734     -51.692214   \n",
       "3       -21.904088     -23.102383    -191.636330     -51.190619   \n",
       "4       -21.616472     -23.102383    -190.739660     -50.903980   \n",
       "..             ...            ...            ...            ...   \n",
       "739     -21.041212     -23.725431    -306.917177    -125.565894   \n",
       "740     -21.041212     -23.557690    -285.590873    -126.599786   \n",
       "741     -21.041212     -23.389949    -268.375038    -127.830821   \n",
       "742     -21.041212     -23.389949    -254.095873    -129.053794   \n",
       "743     -21.041212     -23.389949    -243.344935    -129.913714   \n",
       "\n",
       "     (50.0, -40.0)  (50.0, -60.0)  (80.0, -20.0)  (80.0, -40.0)  (80.0, -60.0)  \n",
       "0       -24.204667    -304.915914     -68.562192     -22.095825     -96.347607  \n",
       "1       -24.412328    -304.637871     -68.562192     -21.904088     -95.634768  \n",
       "2       -24.635959    -303.989075     -68.562192     -21.904088     -95.028808  \n",
       "3       -24.635959    -303.649208     -68.228455     -21.904088     -94.616890  \n",
       "4       -24.923474    -303.154831     -68.228455     -21.904088     -93.876178  \n",
       "..             ...            ...            ...            ...            ...  \n",
       "739    -850.129532    -695.245247    -981.683056    -800.636272    -470.650216  \n",
       "740    -849.870933    -693.901787    -977.351484    -799.489618    -467.938392  \n",
       "741    -847.995784    -692.062365    -973.500444    -797.590173    -465.339106  \n",
       "742    -845.106682    -690.134413    -968.902449    -795.092987    -463.250007  \n",
       "743    -840.353649    -688.580633    -965.569411    -791.964873    -462.190096  \n",
       "\n",
       "[744 rows x 13 columns]"
      ]
     },
     "execution_count": 28,
     "metadata": {},
     "output_type": "execute_result"
    }
   ],
   "source": [
    "pdf = df2[[\"sensor\", \"value\", \"timestamp\"]].pivot(index='timestamp', columns='sensor')\n",
    "pdf.columns = pdf.columns.droplevel(0)\n",
    "pdf = pdf.reset_index().rename_axis(None, axis=1)\n",
    "pdf"
   ]
  },
  {
   "cell_type": "code",
   "execution_count": 29,
   "id": "cf21eee4",
   "metadata": {
    "slideshow": {
     "slide_type": "skip"
    }
   },
   "outputs": [],
   "source": [
    "# import seaborn as sns\n",
    "# sns.pairplot(pdf)\n",
    "# plt.show()"
   ]
  },
  {
   "cell_type": "code",
   "execution_count": 30,
   "id": "96f4739a",
   "metadata": {
    "slideshow": {
     "slide_type": "skip"
    }
   },
   "outputs": [],
   "source": [
    "# wr.s3.to_csv(df=pdf, path=output_bucket + \"/pivot.csv\", index=False)"
   ]
  },
  {
   "cell_type": "markdown",
   "id": "f91a76cf",
   "metadata": {
    "slideshow": {
     "slide_type": "slide"
    }
   },
   "source": [
    "## 4. Build a (relational) data warehouse (AWS RDS)"
   ]
  },
  {
   "cell_type": "markdown",
   "id": "930523a3",
   "metadata": {
    "slideshow": {
     "slide_type": "subslide"
    }
   },
   "source": [
    "Amazon Relational Database Service (Amazon RDS) \n",
    "- A collection of managed services that makes it simple to set up, operate, and scale relational databases in the cloud\n"
   ]
  },
  {
   "cell_type": "markdown",
   "id": "b6412a5e",
   "metadata": {},
   "source": [
    "![image](https://user-images.githubusercontent.com/18005592/200369753-f6d9e73e-6d7f-4d4b-bad6-311528e51629.png)"
   ]
  },
  {
   "cell_type": "markdown",
   "id": "a7b63f0c",
   "metadata": {
    "slideshow": {
     "slide_type": "subslide"
    }
   },
   "source": [
    "![image](https://user-images.githubusercontent.com/18005592/200370358-ba76ec71-0414-40f9-bfd8-87a3a399a333.png)"
   ]
  },
  {
   "cell_type": "markdown",
   "id": "b6e1f371",
   "metadata": {
    "slideshow": {
     "slide_type": "subslide"
    }
   },
   "source": [
    "Pwd: `bigdata2022`"
   ]
  },
  {
   "cell_type": "markdown",
   "id": "ea232279",
   "metadata": {
    "slideshow": {
     "slide_type": "-"
    }
   },
   "source": [
    "![image](https://user-images.githubusercontent.com/18005592/200370529-ae695d6f-9629-49bb-ae13-a4f5caeb9a0d.png)"
   ]
  },
  {
   "cell_type": "markdown",
   "id": "572224dd",
   "metadata": {
    "slideshow": {
     "slide_type": "subslide"
    }
   },
   "source": [
    "![image](https://user-images.githubusercontent.com/18005592/200373378-f257ef56-aea9-4eb3-a922-2a4a3b2a1d11.png)"
   ]
  },
  {
   "cell_type": "markdown",
   "id": "44e93804",
   "metadata": {
    "slideshow": {
     "slide_type": "subslide"
    }
   },
   "source": [
    "By default, even if you have set \"Public accessibility\" to \"Yes\", the \"Security Group\" is still not allowing external connections yet.\n",
    "\n",
    "- Virtual private clouds (VPC): a VPC is a virtual network that closely resembles a traditional network that you'd operate in your own data center\n",
    "- A security group acts as a virtual firewall for your AWS instances to control incoming/outgoing traffic\n",
    "    - When you launch an instance, you can specify one or more security groups\n",
    "    - If you don't specify a security group, Amazon EC2 uses the default security group\n",
    "- Your AWS account automatically has a default security group for the default VPC in each Region"
   ]
  },
  {
   "cell_type": "markdown",
   "id": "2bdc3924",
   "metadata": {
    "slideshow": {
     "slide_type": "subslide"
    }
   },
   "source": [
    "From [Default security groups (2022-11-15)](https://docs.aws.amazon.com/AWSEC2/latest/UserGuide/default-custom-security-groups.html#default-security-group)\n",
    "\n",
    "![image](https://user-images.githubusercontent.com/18005592/201981163-0bd75761-be85-41ea-aaf9-6af66e3e41ac.png)\n"
   ]
  },
  {
   "cell_type": "markdown",
   "id": "75917a5b",
   "metadata": {
    "slideshow": {
     "slide_type": "subslide"
    }
   },
   "source": [
    "You can add or remove inbound and outbound rules for any default security group.\n",
    "\n",
    "![image](https://user-images.githubusercontent.com/18005592/201690868-abdd53f7-c6b5-48d4-89ce-e9f6f374a8ce.png)\n"
   ]
  },
  {
   "cell_type": "markdown",
   "id": "b94450a7",
   "metadata": {
    "slideshow": {
     "slide_type": "subslide"
    }
   },
   "source": [
    "![image](https://user-images.githubusercontent.com/18005592/201691253-db130df8-c31a-4c6f-aa69-34cf4d89f0e2.png)"
   ]
  },
  {
   "cell_type": "markdown",
   "id": "60f05dc6",
   "metadata": {
    "slideshow": {
     "slide_type": "subslide"
    }
   },
   "source": [
    "![image](https://user-images.githubusercontent.com/18005592/201691398-a16f467e-c6cd-4dd9-8fc3-f31b45740ec4.png)"
   ]
  },
  {
   "cell_type": "markdown",
   "id": "457b3bbb",
   "metadata": {
    "slideshow": {
     "slide_type": "subslide"
    }
   },
   "source": [
    "Which is the schema of our dataset?"
   ]
  },
  {
   "cell_type": "code",
   "execution_count": 31,
   "id": "f47629a2",
   "metadata": {
    "slideshow": {
     "slide_type": "subslide"
    }
   },
   "outputs": [
    {
     "data": {
      "text/plain": [
       "Index(['plant', 'timestamp', 'dist', 'depth', 'value', 'hour', 'date', 'month',\n",
       "       'year', 'sensor'],\n",
       "      dtype='object')"
      ]
     },
     "execution_count": 31,
     "metadata": {},
     "output_type": "execute_result"
    }
   ],
   "source": [
    "df2.columns"
   ]
  },
  {
   "cell_type": "code",
   "execution_count": 32,
   "id": "9a727234",
   "metadata": {},
   "outputs": [
    {
     "data": {
      "text/html": [
       "<div>\n",
       "<style scoped>\n",
       "    .dataframe tbody tr th:only-of-type {\n",
       "        vertical-align: middle;\n",
       "    }\n",
       "\n",
       "    .dataframe tbody tr th {\n",
       "        vertical-align: top;\n",
       "    }\n",
       "\n",
       "    .dataframe thead th {\n",
       "        text-align: right;\n",
       "    }\n",
       "</style>\n",
       "<table border=\"1\" class=\"dataframe\">\n",
       "  <thead>\n",
       "    <tr style=\"text-align: right;\">\n",
       "      <th></th>\n",
       "      <th>plant</th>\n",
       "      <th>timestamp</th>\n",
       "      <th>dist</th>\n",
       "      <th>depth</th>\n",
       "      <th>value</th>\n",
       "      <th>hour</th>\n",
       "      <th>date</th>\n",
       "      <th>month</th>\n",
       "      <th>year</th>\n",
       "      <th>sensor</th>\n",
       "    </tr>\n",
       "  </thead>\n",
       "  <tbody>\n",
       "    <tr>\n",
       "      <th>0</th>\n",
       "      <td>T1 basso</td>\n",
       "      <td>2021-07-15 00:00:00</td>\n",
       "      <td>0.0</td>\n",
       "      <td>-60.0</td>\n",
       "      <td>-27.366967</td>\n",
       "      <td>2021-07-15 00</td>\n",
       "      <td>2021-07-15</td>\n",
       "      <td>2021-07</td>\n",
       "      <td>2021</td>\n",
       "      <td>(0.0, -60.0)</td>\n",
       "    </tr>\n",
       "    <tr>\n",
       "      <th>1</th>\n",
       "      <td>T1 basso</td>\n",
       "      <td>2021-07-15 00:00:00</td>\n",
       "      <td>0.0</td>\n",
       "      <td>-40.0</td>\n",
       "      <td>-21.041212</td>\n",
       "      <td>2021-07-15 00</td>\n",
       "      <td>2021-07-15</td>\n",
       "      <td>2021-07</td>\n",
       "      <td>2021</td>\n",
       "      <td>(0.0, -40.0)</td>\n",
       "    </tr>\n",
       "    <tr>\n",
       "      <th>2</th>\n",
       "      <td>T1 basso</td>\n",
       "      <td>2021-07-15 00:00:00</td>\n",
       "      <td>0.0</td>\n",
       "      <td>-20.0</td>\n",
       "      <td>-21.041212</td>\n",
       "      <td>2021-07-15 00</td>\n",
       "      <td>2021-07-15</td>\n",
       "      <td>2021-07</td>\n",
       "      <td>2021</td>\n",
       "      <td>(0.0, -20.0)</td>\n",
       "    </tr>\n",
       "    <tr>\n",
       "      <th>3</th>\n",
       "      <td>T1 basso</td>\n",
       "      <td>2021-07-15 00:00:00</td>\n",
       "      <td>25.0</td>\n",
       "      <td>-60.0</td>\n",
       "      <td>-193.593787</td>\n",
       "      <td>2021-07-15 00</td>\n",
       "      <td>2021-07-15</td>\n",
       "      <td>2021-07</td>\n",
       "      <td>2021</td>\n",
       "      <td>(25.0, -60.0)</td>\n",
       "    </tr>\n",
       "    <tr>\n",
       "      <th>4</th>\n",
       "      <td>T1 basso</td>\n",
       "      <td>2021-07-15 00:00:00</td>\n",
       "      <td>25.0</td>\n",
       "      <td>-40.0</td>\n",
       "      <td>-23.102383</td>\n",
       "      <td>2021-07-15 00</td>\n",
       "      <td>2021-07-15</td>\n",
       "      <td>2021-07</td>\n",
       "      <td>2021</td>\n",
       "      <td>(25.0, -40.0)</td>\n",
       "    </tr>\n",
       "    <tr>\n",
       "      <th>...</th>\n",
       "      <td>...</td>\n",
       "      <td>...</td>\n",
       "      <td>...</td>\n",
       "      <td>...</td>\n",
       "      <td>...</td>\n",
       "      <td>...</td>\n",
       "      <td>...</td>\n",
       "      <td>...</td>\n",
       "      <td>...</td>\n",
       "      <td>...</td>\n",
       "    </tr>\n",
       "    <tr>\n",
       "      <th>8751</th>\n",
       "      <td>T1 basso</td>\n",
       "      <td>2021-08-14 23:00:00</td>\n",
       "      <td>50.0</td>\n",
       "      <td>-40.0</td>\n",
       "      <td>-840.353649</td>\n",
       "      <td>2021-08-14 23</td>\n",
       "      <td>2021-08-14</td>\n",
       "      <td>2021-08</td>\n",
       "      <td>2021</td>\n",
       "      <td>(50.0, -40.0)</td>\n",
       "    </tr>\n",
       "    <tr>\n",
       "      <th>8752</th>\n",
       "      <td>T1 basso</td>\n",
       "      <td>2021-08-14 23:00:00</td>\n",
       "      <td>50.0</td>\n",
       "      <td>-20.0</td>\n",
       "      <td>-129.913714</td>\n",
       "      <td>2021-08-14 23</td>\n",
       "      <td>2021-08-14</td>\n",
       "      <td>2021-08</td>\n",
       "      <td>2021</td>\n",
       "      <td>(50.0, -20.0)</td>\n",
       "    </tr>\n",
       "    <tr>\n",
       "      <th>8753</th>\n",
       "      <td>T1 basso</td>\n",
       "      <td>2021-08-14 23:00:00</td>\n",
       "      <td>80.0</td>\n",
       "      <td>-60.0</td>\n",
       "      <td>-462.190096</td>\n",
       "      <td>2021-08-14 23</td>\n",
       "      <td>2021-08-14</td>\n",
       "      <td>2021-08</td>\n",
       "      <td>2021</td>\n",
       "      <td>(80.0, -60.0)</td>\n",
       "    </tr>\n",
       "    <tr>\n",
       "      <th>8754</th>\n",
       "      <td>T1 basso</td>\n",
       "      <td>2021-08-14 23:00:00</td>\n",
       "      <td>80.0</td>\n",
       "      <td>-40.0</td>\n",
       "      <td>-791.964873</td>\n",
       "      <td>2021-08-14 23</td>\n",
       "      <td>2021-08-14</td>\n",
       "      <td>2021-08</td>\n",
       "      <td>2021</td>\n",
       "      <td>(80.0, -40.0)</td>\n",
       "    </tr>\n",
       "    <tr>\n",
       "      <th>8755</th>\n",
       "      <td>T1 basso</td>\n",
       "      <td>2021-08-14 23:00:00</td>\n",
       "      <td>80.0</td>\n",
       "      <td>-20.0</td>\n",
       "      <td>-965.569411</td>\n",
       "      <td>2021-08-14 23</td>\n",
       "      <td>2021-08-14</td>\n",
       "      <td>2021-08</td>\n",
       "      <td>2021</td>\n",
       "      <td>(80.0, -20.0)</td>\n",
       "    </tr>\n",
       "  </tbody>\n",
       "</table>\n",
       "<p>8756 rows × 10 columns</p>\n",
       "</div>"
      ],
      "text/plain": [
       "         plant            timestamp  dist  depth       value           hour  \\\n",
       "0     T1 basso  2021-07-15 00:00:00   0.0  -60.0  -27.366967  2021-07-15 00   \n",
       "1     T1 basso  2021-07-15 00:00:00   0.0  -40.0  -21.041212  2021-07-15 00   \n",
       "2     T1 basso  2021-07-15 00:00:00   0.0  -20.0  -21.041212  2021-07-15 00   \n",
       "3     T1 basso  2021-07-15 00:00:00  25.0  -60.0 -193.593787  2021-07-15 00   \n",
       "4     T1 basso  2021-07-15 00:00:00  25.0  -40.0  -23.102383  2021-07-15 00   \n",
       "...        ...                  ...   ...    ...         ...            ...   \n",
       "8751  T1 basso  2021-08-14 23:00:00  50.0  -40.0 -840.353649  2021-08-14 23   \n",
       "8752  T1 basso  2021-08-14 23:00:00  50.0  -20.0 -129.913714  2021-08-14 23   \n",
       "8753  T1 basso  2021-08-14 23:00:00  80.0  -60.0 -462.190096  2021-08-14 23   \n",
       "8754  T1 basso  2021-08-14 23:00:00  80.0  -40.0 -791.964873  2021-08-14 23   \n",
       "8755  T1 basso  2021-08-14 23:00:00  80.0  -20.0 -965.569411  2021-08-14 23   \n",
       "\n",
       "            date    month  year         sensor  \n",
       "0     2021-07-15  2021-07  2021   (0.0, -60.0)  \n",
       "1     2021-07-15  2021-07  2021   (0.0, -40.0)  \n",
       "2     2021-07-15  2021-07  2021   (0.0, -20.0)  \n",
       "3     2021-07-15  2021-07  2021  (25.0, -60.0)  \n",
       "4     2021-07-15  2021-07  2021  (25.0, -40.0)  \n",
       "...          ...      ...   ...            ...  \n",
       "8751  2021-08-14  2021-08  2021  (50.0, -40.0)  \n",
       "8752  2021-08-14  2021-08  2021  (50.0, -20.0)  \n",
       "8753  2021-08-14  2021-08  2021  (80.0, -60.0)  \n",
       "8754  2021-08-14  2021-08  2021  (80.0, -40.0)  \n",
       "8755  2021-08-14  2021-08  2021  (80.0, -20.0)  \n",
       "\n",
       "[8756 rows x 10 columns]"
      ]
     },
     "execution_count": 32,
     "metadata": {},
     "output_type": "execute_result"
    }
   ],
   "source": [
    "raw_data = wr.s3.read_csv(output_bucket + \"cleaned-v2-\" + file_name)\n",
    "raw_data"
   ]
  },
  {
   "cell_type": "markdown",
   "id": "c55ad925",
   "metadata": {
    "slideshow": {
     "slide_type": "subslide"
    }
   },
   "source": [
    "- Is this schema normalized?\n",
    "- Is this the schema you are used to when building DWH?"
   ]
  },
  {
   "cell_type": "markdown",
   "id": "6814e4f1",
   "metadata": {
    "slideshow": {
     "slide_type": "subslide"
    }
   },
   "source": [
    "We need to distinguish the fact and the dimension tables:\n",
    "- FT: Measurement\n",
    "- DT1: Time\n",
    "- DT2: Sensor"
   ]
  },
  {
   "cell_type": "code",
   "execution_count": 33,
   "id": "297a2de1",
   "metadata": {
    "slideshow": {
     "slide_type": "subslide"
    }
   },
   "outputs": [
    {
     "data": {
      "text/html": [
       "<div>\n",
       "<style scoped>\n",
       "    .dataframe tbody tr th:only-of-type {\n",
       "        vertical-align: middle;\n",
       "    }\n",
       "\n",
       "    .dataframe tbody tr th {\n",
       "        vertical-align: top;\n",
       "    }\n",
       "\n",
       "    .dataframe thead th {\n",
       "        text-align: right;\n",
       "    }\n",
       "</style>\n",
       "<table border=\"1\" class=\"dataframe\">\n",
       "  <thead>\n",
       "    <tr style=\"text-align: right;\">\n",
       "      <th></th>\n",
       "      <th>timestamp</th>\n",
       "      <th>date</th>\n",
       "      <th>month</th>\n",
       "      <th>year</th>\n",
       "    </tr>\n",
       "  </thead>\n",
       "  <tbody>\n",
       "    <tr>\n",
       "      <th>0</th>\n",
       "      <td>2021-07-15 00:00:00</td>\n",
       "      <td>2021-07-15</td>\n",
       "      <td>2021-07</td>\n",
       "      <td>2021</td>\n",
       "    </tr>\n",
       "    <tr>\n",
       "      <th>12</th>\n",
       "      <td>2021-07-15 01:00:00</td>\n",
       "      <td>2021-07-15</td>\n",
       "      <td>2021-07</td>\n",
       "      <td>2021</td>\n",
       "    </tr>\n",
       "    <tr>\n",
       "      <th>24</th>\n",
       "      <td>2021-07-15 02:00:00</td>\n",
       "      <td>2021-07-15</td>\n",
       "      <td>2021-07</td>\n",
       "      <td>2021</td>\n",
       "    </tr>\n",
       "    <tr>\n",
       "      <th>36</th>\n",
       "      <td>2021-07-15 03:00:00</td>\n",
       "      <td>2021-07-15</td>\n",
       "      <td>2021-07</td>\n",
       "      <td>2021</td>\n",
       "    </tr>\n",
       "    <tr>\n",
       "      <th>48</th>\n",
       "      <td>2021-07-15 04:00:00</td>\n",
       "      <td>2021-07-15</td>\n",
       "      <td>2021-07</td>\n",
       "      <td>2021</td>\n",
       "    </tr>\n",
       "    <tr>\n",
       "      <th>...</th>\n",
       "      <td>...</td>\n",
       "      <td>...</td>\n",
       "      <td>...</td>\n",
       "      <td>...</td>\n",
       "    </tr>\n",
       "    <tr>\n",
       "      <th>8696</th>\n",
       "      <td>2021-08-14 19:00:00</td>\n",
       "      <td>2021-08-14</td>\n",
       "      <td>2021-08</td>\n",
       "      <td>2021</td>\n",
       "    </tr>\n",
       "    <tr>\n",
       "      <th>8708</th>\n",
       "      <td>2021-08-14 20:00:00</td>\n",
       "      <td>2021-08-14</td>\n",
       "      <td>2021-08</td>\n",
       "      <td>2021</td>\n",
       "    </tr>\n",
       "    <tr>\n",
       "      <th>8720</th>\n",
       "      <td>2021-08-14 21:00:00</td>\n",
       "      <td>2021-08-14</td>\n",
       "      <td>2021-08</td>\n",
       "      <td>2021</td>\n",
       "    </tr>\n",
       "    <tr>\n",
       "      <th>8732</th>\n",
       "      <td>2021-08-14 22:00:00</td>\n",
       "      <td>2021-08-14</td>\n",
       "      <td>2021-08</td>\n",
       "      <td>2021</td>\n",
       "    </tr>\n",
       "    <tr>\n",
       "      <th>8744</th>\n",
       "      <td>2021-08-14 23:00:00</td>\n",
       "      <td>2021-08-14</td>\n",
       "      <td>2021-08</td>\n",
       "      <td>2021</td>\n",
       "    </tr>\n",
       "  </tbody>\n",
       "</table>\n",
       "<p>744 rows × 4 columns</p>\n",
       "</div>"
      ],
      "text/plain": [
       "                timestamp        date    month  year\n",
       "0     2021-07-15 00:00:00  2021-07-15  2021-07  2021\n",
       "12    2021-07-15 01:00:00  2021-07-15  2021-07  2021\n",
       "24    2021-07-15 02:00:00  2021-07-15  2021-07  2021\n",
       "36    2021-07-15 03:00:00  2021-07-15  2021-07  2021\n",
       "48    2021-07-15 04:00:00  2021-07-15  2021-07  2021\n",
       "...                   ...         ...      ...   ...\n",
       "8696  2021-08-14 19:00:00  2021-08-14  2021-08  2021\n",
       "8708  2021-08-14 20:00:00  2021-08-14  2021-08  2021\n",
       "8720  2021-08-14 21:00:00  2021-08-14  2021-08  2021\n",
       "8732  2021-08-14 22:00:00  2021-08-14  2021-08  2021\n",
       "8744  2021-08-14 23:00:00  2021-08-14  2021-08  2021\n",
       "\n",
       "[744 rows x 4 columns]"
      ]
     },
     "execution_count": 33,
     "metadata": {},
     "output_type": "execute_result"
    }
   ],
   "source": [
    "dt_time = raw_data[[\"timestamp\", \"date\", \"month\", \"year\"]].drop_duplicates()\n",
    "dt_time"
   ]
  },
  {
   "cell_type": "code",
   "execution_count": 34,
   "id": "42e210c8",
   "metadata": {
    "slideshow": {
     "slide_type": "subslide"
    }
   },
   "outputs": [
    {
     "data": {
      "text/html": [
       "<div>\n",
       "<style scoped>\n",
       "    .dataframe tbody tr th:only-of-type {\n",
       "        vertical-align: middle;\n",
       "    }\n",
       "\n",
       "    .dataframe tbody tr th {\n",
       "        vertical-align: top;\n",
       "    }\n",
       "\n",
       "    .dataframe thead th {\n",
       "        text-align: right;\n",
       "    }\n",
       "</style>\n",
       "<table border=\"1\" class=\"dataframe\">\n",
       "  <thead>\n",
       "    <tr style=\"text-align: right;\">\n",
       "      <th></th>\n",
       "      <th>sensor</th>\n",
       "      <th>dist</th>\n",
       "      <th>depth</th>\n",
       "      <th>plant</th>\n",
       "    </tr>\n",
       "  </thead>\n",
       "  <tbody>\n",
       "    <tr>\n",
       "      <th>0</th>\n",
       "      <td>(0.0, -60.0)</td>\n",
       "      <td>0.0</td>\n",
       "      <td>-60.0</td>\n",
       "      <td>T1 basso</td>\n",
       "    </tr>\n",
       "    <tr>\n",
       "      <th>1</th>\n",
       "      <td>(0.0, -40.0)</td>\n",
       "      <td>0.0</td>\n",
       "      <td>-40.0</td>\n",
       "      <td>T1 basso</td>\n",
       "    </tr>\n",
       "    <tr>\n",
       "      <th>2</th>\n",
       "      <td>(0.0, -20.0)</td>\n",
       "      <td>0.0</td>\n",
       "      <td>-20.0</td>\n",
       "      <td>T1 basso</td>\n",
       "    </tr>\n",
       "    <tr>\n",
       "      <th>3</th>\n",
       "      <td>(25.0, -60.0)</td>\n",
       "      <td>25.0</td>\n",
       "      <td>-60.0</td>\n",
       "      <td>T1 basso</td>\n",
       "    </tr>\n",
       "    <tr>\n",
       "      <th>4</th>\n",
       "      <td>(25.0, -40.0)</td>\n",
       "      <td>25.0</td>\n",
       "      <td>-40.0</td>\n",
       "      <td>T1 basso</td>\n",
       "    </tr>\n",
       "    <tr>\n",
       "      <th>5</th>\n",
       "      <td>(25.0, -20.0)</td>\n",
       "      <td>25.0</td>\n",
       "      <td>-20.0</td>\n",
       "      <td>T1 basso</td>\n",
       "    </tr>\n",
       "    <tr>\n",
       "      <th>6</th>\n",
       "      <td>(50.0, -60.0)</td>\n",
       "      <td>50.0</td>\n",
       "      <td>-60.0</td>\n",
       "      <td>T1 basso</td>\n",
       "    </tr>\n",
       "    <tr>\n",
       "      <th>7</th>\n",
       "      <td>(50.0, -40.0)</td>\n",
       "      <td>50.0</td>\n",
       "      <td>-40.0</td>\n",
       "      <td>T1 basso</td>\n",
       "    </tr>\n",
       "    <tr>\n",
       "      <th>8</th>\n",
       "      <td>(50.0, -20.0)</td>\n",
       "      <td>50.0</td>\n",
       "      <td>-20.0</td>\n",
       "      <td>T1 basso</td>\n",
       "    </tr>\n",
       "    <tr>\n",
       "      <th>9</th>\n",
       "      <td>(80.0, -60.0)</td>\n",
       "      <td>80.0</td>\n",
       "      <td>-60.0</td>\n",
       "      <td>T1 basso</td>\n",
       "    </tr>\n",
       "    <tr>\n",
       "      <th>10</th>\n",
       "      <td>(80.0, -40.0)</td>\n",
       "      <td>80.0</td>\n",
       "      <td>-40.0</td>\n",
       "      <td>T1 basso</td>\n",
       "    </tr>\n",
       "    <tr>\n",
       "      <th>11</th>\n",
       "      <td>(80.0, -20.0)</td>\n",
       "      <td>80.0</td>\n",
       "      <td>-20.0</td>\n",
       "      <td>T1 basso</td>\n",
       "    </tr>\n",
       "  </tbody>\n",
       "</table>\n",
       "</div>"
      ],
      "text/plain": [
       "           sensor  dist  depth     plant\n",
       "0    (0.0, -60.0)   0.0  -60.0  T1 basso\n",
       "1    (0.0, -40.0)   0.0  -40.0  T1 basso\n",
       "2    (0.0, -20.0)   0.0  -20.0  T1 basso\n",
       "3   (25.0, -60.0)  25.0  -60.0  T1 basso\n",
       "4   (25.0, -40.0)  25.0  -40.0  T1 basso\n",
       "5   (25.0, -20.0)  25.0  -20.0  T1 basso\n",
       "6   (50.0, -60.0)  50.0  -60.0  T1 basso\n",
       "7   (50.0, -40.0)  50.0  -40.0  T1 basso\n",
       "8   (50.0, -20.0)  50.0  -20.0  T1 basso\n",
       "9   (80.0, -60.0)  80.0  -60.0  T1 basso\n",
       "10  (80.0, -40.0)  80.0  -40.0  T1 basso\n",
       "11  (80.0, -20.0)  80.0  -20.0  T1 basso"
      ]
     },
     "execution_count": 34,
     "metadata": {},
     "output_type": "execute_result"
    }
   ],
   "source": [
    "dt_sensor = raw_data[[\"sensor\", \"dist\", \"depth\", \"plant\"]].drop_duplicates()\n",
    "dt_sensor"
   ]
  },
  {
   "cell_type": "code",
   "execution_count": 35,
   "id": "bafff377",
   "metadata": {
    "slideshow": {
     "slide_type": "subslide"
    }
   },
   "outputs": [
    {
     "data": {
      "text/html": [
       "<div>\n",
       "<style scoped>\n",
       "    .dataframe tbody tr th:only-of-type {\n",
       "        vertical-align: middle;\n",
       "    }\n",
       "\n",
       "    .dataframe tbody tr th {\n",
       "        vertical-align: top;\n",
       "    }\n",
       "\n",
       "    .dataframe thead th {\n",
       "        text-align: right;\n",
       "    }\n",
       "</style>\n",
       "<table border=\"1\" class=\"dataframe\">\n",
       "  <thead>\n",
       "    <tr style=\"text-align: right;\">\n",
       "      <th></th>\n",
       "      <th>sensor</th>\n",
       "      <th>timestamp</th>\n",
       "      <th>value</th>\n",
       "    </tr>\n",
       "  </thead>\n",
       "  <tbody>\n",
       "    <tr>\n",
       "      <th>0</th>\n",
       "      <td>(0.0, -60.0)</td>\n",
       "      <td>2021-07-15 00:00:00</td>\n",
       "      <td>-27.366967</td>\n",
       "    </tr>\n",
       "    <tr>\n",
       "      <th>1</th>\n",
       "      <td>(0.0, -40.0)</td>\n",
       "      <td>2021-07-15 00:00:00</td>\n",
       "      <td>-21.041212</td>\n",
       "    </tr>\n",
       "    <tr>\n",
       "      <th>2</th>\n",
       "      <td>(0.0, -20.0)</td>\n",
       "      <td>2021-07-15 00:00:00</td>\n",
       "      <td>-21.041212</td>\n",
       "    </tr>\n",
       "    <tr>\n",
       "      <th>3</th>\n",
       "      <td>(25.0, -60.0)</td>\n",
       "      <td>2021-07-15 00:00:00</td>\n",
       "      <td>-193.593787</td>\n",
       "    </tr>\n",
       "    <tr>\n",
       "      <th>4</th>\n",
       "      <td>(25.0, -40.0)</td>\n",
       "      <td>2021-07-15 00:00:00</td>\n",
       "      <td>-23.102383</td>\n",
       "    </tr>\n",
       "    <tr>\n",
       "      <th>...</th>\n",
       "      <td>...</td>\n",
       "      <td>...</td>\n",
       "      <td>...</td>\n",
       "    </tr>\n",
       "    <tr>\n",
       "      <th>8751</th>\n",
       "      <td>(50.0, -40.0)</td>\n",
       "      <td>2021-08-14 23:00:00</td>\n",
       "      <td>-840.353649</td>\n",
       "    </tr>\n",
       "    <tr>\n",
       "      <th>8752</th>\n",
       "      <td>(50.0, -20.0)</td>\n",
       "      <td>2021-08-14 23:00:00</td>\n",
       "      <td>-129.913714</td>\n",
       "    </tr>\n",
       "    <tr>\n",
       "      <th>8753</th>\n",
       "      <td>(80.0, -60.0)</td>\n",
       "      <td>2021-08-14 23:00:00</td>\n",
       "      <td>-462.190096</td>\n",
       "    </tr>\n",
       "    <tr>\n",
       "      <th>8754</th>\n",
       "      <td>(80.0, -40.0)</td>\n",
       "      <td>2021-08-14 23:00:00</td>\n",
       "      <td>-791.964873</td>\n",
       "    </tr>\n",
       "    <tr>\n",
       "      <th>8755</th>\n",
       "      <td>(80.0, -20.0)</td>\n",
       "      <td>2021-08-14 23:00:00</td>\n",
       "      <td>-965.569411</td>\n",
       "    </tr>\n",
       "  </tbody>\n",
       "</table>\n",
       "<p>8756 rows × 3 columns</p>\n",
       "</div>"
      ],
      "text/plain": [
       "             sensor            timestamp       value\n",
       "0      (0.0, -60.0)  2021-07-15 00:00:00  -27.366967\n",
       "1      (0.0, -40.0)  2021-07-15 00:00:00  -21.041212\n",
       "2      (0.0, -20.0)  2021-07-15 00:00:00  -21.041212\n",
       "3     (25.0, -60.0)  2021-07-15 00:00:00 -193.593787\n",
       "4     (25.0, -40.0)  2021-07-15 00:00:00  -23.102383\n",
       "...             ...                  ...         ...\n",
       "8751  (50.0, -40.0)  2021-08-14 23:00:00 -840.353649\n",
       "8752  (50.0, -20.0)  2021-08-14 23:00:00 -129.913714\n",
       "8753  (80.0, -60.0)  2021-08-14 23:00:00 -462.190096\n",
       "8754  (80.0, -40.0)  2021-08-14 23:00:00 -791.964873\n",
       "8755  (80.0, -20.0)  2021-08-14 23:00:00 -965.569411\n",
       "\n",
       "[8756 rows x 3 columns]"
      ]
     },
     "execution_count": 35,
     "metadata": {},
     "output_type": "execute_result"
    }
   ],
   "source": [
    "ft_mea = raw_data[[\"sensor\", \"timestamp\", \"value\"]].drop_duplicates()\n",
    "ft_mea"
   ]
  },
  {
   "cell_type": "markdown",
   "id": "9f06745a",
   "metadata": {
    "slideshow": {
     "slide_type": "subslide"
    }
   },
   "source": [
    "We need to connect to the database..."
   ]
  },
  {
   "cell_type": "markdown",
   "id": "0bf5b71e",
   "metadata": {},
   "source": [
    "![image](https://user-images.githubusercontent.com/18005592/200372868-4881edde-4f7f-4024-8ffb-cc3836d1a367.png)"
   ]
  },
  {
   "cell_type": "code",
   "execution_count": 36,
   "id": "fa271c6a",
   "metadata": {
    "slideshow": {
     "slide_type": "-"
    }
   },
   "outputs": [],
   "source": [
    "host = \"sensor-dwh.cd97tkze3ics.us-east-1.rds.amazonaws.com\"\n",
    "port = 5432\n",
    "user = \"postgres\"\n",
    "pwd = \"bigdata2022\"\n",
    "db = \"postgres\"\n",
    "\n",
    "from sqlalchemy import create_engine\n",
    "s = 'postgresql://{}:{}@{}:{}/{}'.format(user, pwd, host, str(port), db)\n",
    "engine = create_engine(s)"
   ]
  },
  {
   "cell_type": "markdown",
   "id": "d2484e21",
   "metadata": {
    "slideshow": {
     "slide_type": "subslide"
    }
   },
   "source": [
    "... and just write the tables"
   ]
  },
  {
   "cell_type": "code",
   "execution_count": 37,
   "id": "d5798247",
   "metadata": {},
   "outputs": [],
   "source": [
    "dt_sensor.to_sql('sensor', engine, index=False, if_exists='replace')"
   ]
  },
  {
   "cell_type": "code",
   "execution_count": 38,
   "id": "4ab5d16a",
   "metadata": {},
   "outputs": [],
   "source": [
    "dt_time.to_sql('date', engine, index=False, if_exists='replace')"
   ]
  },
  {
   "cell_type": "code",
   "execution_count": 39,
   "id": "e2a8a014",
   "metadata": {},
   "outputs": [],
   "source": [
    "ft_mea.to_sql('measurement', engine, index=False, if_exists='replace')"
   ]
  },
  {
   "cell_type": "markdown",
   "id": "882485a6",
   "metadata": {
    "slideshow": {
     "slide_type": "slide"
    }
   },
   "source": [
    "## 5. Query the data warehouse (Tableau)"
   ]
  },
  {
   "cell_type": "markdown",
   "id": "2ee1ba93",
   "metadata": {
    "slideshow": {
     "slide_type": "subslide"
    }
   },
   "source": [
    "![image](https://user-images.githubusercontent.com/18005592/200375443-c023c9f7-6df4-4717-91a6-4d9ea230eaea.png)"
   ]
  },
  {
   "cell_type": "markdown",
   "id": "57002c8c",
   "metadata": {
    "slideshow": {
     "slide_type": "subslide"
    }
   },
   "source": [
    "Tasks\n",
    "\n",
    "1. Build the hierarchies by following the functional dependencies\n",
    "2. Plot the average soil moisture (`avg(value)`) by `sensor` and `date`. Is soil moisture behaving as expected for all sensors?\n",
    "3. Plot the standard deviation of the soil moisture for every sensor. What can you tell from this visualization?"
   ]
  }
 ],
 "metadata": {
  "celltoolbar": "Slideshow",
  "kernelspec": {
   "display_name": "Python 3 (ipykernel)",
   "language": "python",
   "name": "python3"
  },
  "language_info": {
   "codemirror_mode": {
    "name": "ipython",
    "version": 3
   },
   "file_extension": ".py",
   "mimetype": "text/x-python",
   "name": "python",
   "nbconvert_exporter": "python",
   "pygments_lexer": "ipython3",
   "version": "3.10.8"
  }
 },
 "nbformat": 4,
 "nbformat_minor": 5
}
